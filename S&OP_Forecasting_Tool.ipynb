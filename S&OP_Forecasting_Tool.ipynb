{
  "cells": [
    {
      "cell_type": "markdown",
      "metadata": {
        "id": "RIcp9qQtI_EQ"
      },
      "source": [
        "# _**Bibliotecas python**_"
      ]
    },
    {
      "cell_type": "markdown",
      "metadata": {
        "id": "nSbPj8X0i51p"
      },
      "source": [
        "## Instalação de pacotes"
      ]
    },
    {
      "cell_type": "code",
      "execution_count": null,
      "metadata": {
        "colab": {
          "base_uri": "https://localhost:8080/"
        },
        "id": "-1UxdMBHIYrR",
        "outputId": "403fd42b-f4bb-4a7b-b317-0be8f5bc5d9e"
      },
      "outputs": [
        {
          "name": "stdout",
          "output_type": "stream",
          "text": [
            "Name: statsmodels\n",
            "Version: 0.10.2\n",
            "Summary: Statistical computations and models for Python\n",
            "Home-page: https://www.statsmodels.org/\n",
            "Author: None\n",
            "Author-email: None\n",
            "License: BSD License\n",
            "Location: /usr/local/lib/python3.7/dist-packages\n",
            "Requires: patsy, pandas, numpy, scipy\n",
            "Required-by: plotnine\n"
          ]
        }
      ],
      "source": [
        "!pip show statsmodels"
      ]
    },
    {
      "cell_type": "code",
      "execution_count": null,
      "metadata": {
        "colab": {
          "base_uri": "https://localhost:8080/"
        },
        "id": "XxTInQEtT-Cq",
        "outputId": "ddb2738e-9454-44bf-b952-2a0aa74113bb"
      },
      "outputs": [
        {
          "name": "stdout",
          "output_type": "stream",
          "text": [
            "Looking in indexes: https://pypi.org/simple, https://us-python.pkg.dev/colab-wheels/public/simple/\n",
            "Collecting statsmodels==0.12.2\n",
            "  Downloading statsmodels-0.12.2-cp37-cp37m-manylinux1_x86_64.whl (9.5 MB)\n",
            "\u001b[K     |████████████████████████████████| 9.5 MB 7.4 MB/s \n",
            "\u001b[?25hRequirement already satisfied: patsy>=0.5 in /usr/local/lib/python3.7/dist-packages (from statsmodels==0.12.2) (0.5.2)\n",
            "Requirement already satisfied: scipy>=1.1 in /usr/local/lib/python3.7/dist-packages (from statsmodels==0.12.2) (1.4.1)\n",
            "Requirement already satisfied: numpy>=1.15 in /usr/local/lib/python3.7/dist-packages (from statsmodels==0.12.2) (1.21.6)\n",
            "Requirement already satisfied: pandas>=0.21 in /usr/local/lib/python3.7/dist-packages (from statsmodels==0.12.2) (1.3.5)\n",
            "Requirement already satisfied: python-dateutil>=2.7.3 in /usr/local/lib/python3.7/dist-packages (from pandas>=0.21->statsmodels==0.12.2) (2.8.2)\n",
            "Requirement already satisfied: pytz>=2017.3 in /usr/local/lib/python3.7/dist-packages (from pandas>=0.21->statsmodels==0.12.2) (2022.1)\n",
            "Requirement already satisfied: six in /usr/local/lib/python3.7/dist-packages (from patsy>=0.5->statsmodels==0.12.2) (1.15.0)\n",
            "Installing collected packages: statsmodels\n",
            "  Attempting uninstall: statsmodels\n",
            "    Found existing installation: statsmodels 0.10.2\n",
            "    Uninstalling statsmodels-0.10.2:\n",
            "      Successfully uninstalled statsmodels-0.10.2\n",
            "Successfully installed statsmodels-0.12.2\n"
          ]
        }
      ],
      "source": [
        "# Atualizando o pacote statsmodels para a versão 0.12.2 para a qual aplicamos o SEASONAL DECOMPOSE\n",
        "!pip install statsmodels==0.12.2"
      ]
    },
    {
      "cell_type": "code",
      "execution_count": null,
      "metadata": {
        "colab": {
          "base_uri": "https://localhost:8080/"
        },
        "id": "anRIYEBwhBP0",
        "outputId": "973a379b-3264-49dd-e62f-835a8762ba4d"
      },
      "outputs": [
        {
          "name": "stdout",
          "output_type": "stream",
          "text": [
            "Name: statsmodels\n",
            "Version: 0.12.2\n",
            "Summary: Statistical computations and models for Python\n",
            "Home-page: https://www.statsmodels.org/\n",
            "Author: None\n",
            "Author-email: None\n",
            "License: BSD License\n",
            "Location: /usr/local/lib/python3.7/dist-packages\n",
            "Requires: numpy, pandas, scipy, patsy\n",
            "Required-by: plotnine\n"
          ]
        }
      ],
      "source": [
        "!pip show statsmodels"
      ]
    },
    {
      "cell_type": "code",
      "execution_count": null,
      "metadata": {
        "colab": {
          "base_uri": "https://localhost:8080/"
        },
        "id": "X_e8Y3xwDKuj",
        "outputId": "b7feea26-fa45-4587-f170-da553607cfc0"
      },
      "outputs": [
        {
          "name": "stdout",
          "output_type": "stream",
          "text": [
            "Looking in indexes: https://pypi.org/simple, https://us-python.pkg.dev/colab-wheels/public/simple/\n",
            "Collecting pmdarima\n",
            "  Downloading pmdarima-1.8.5-cp37-cp37m-manylinux_2_17_x86_64.manylinux2014_x86_64.manylinux_2_24_x86_64.whl (1.4 MB)\n",
            "\u001b[K     |████████████████████████████████| 1.4 MB 26.0 MB/s \n",
            "\u001b[?25hRequirement already satisfied: joblib>=0.11 in /usr/local/lib/python3.7/dist-packages (from pmdarima) (1.1.0)\n",
            "Requirement already satisfied: statsmodels!=0.12.0,>=0.11 in /usr/local/lib/python3.7/dist-packages (from pmdarima) (0.12.2)\n",
            "Requirement already satisfied: scipy>=1.3.2 in /usr/local/lib/python3.7/dist-packages (from pmdarima) (1.4.1)\n",
            "Requirement already satisfied: numpy>=1.19.3 in /usr/local/lib/python3.7/dist-packages (from pmdarima) (1.21.6)\n",
            "Requirement already satisfied: pandas>=0.19 in /usr/local/lib/python3.7/dist-packages (from pmdarima) (1.3.5)\n",
            "Requirement already satisfied: urllib3 in /usr/local/lib/python3.7/dist-packages (from pmdarima) (1.24.3)\n",
            "Requirement already satisfied: setuptools!=50.0.0,>=38.6.0 in /usr/local/lib/python3.7/dist-packages (from pmdarima) (57.4.0)\n",
            "Requirement already satisfied: Cython!=0.29.18,>=0.29 in /usr/local/lib/python3.7/dist-packages (from pmdarima) (0.29.30)\n",
            "Requirement already satisfied: scikit-learn>=0.22 in /usr/local/lib/python3.7/dist-packages (from pmdarima) (1.0.2)\n",
            "Requirement already satisfied: python-dateutil>=2.7.3 in /usr/local/lib/python3.7/dist-packages (from pandas>=0.19->pmdarima) (2.8.2)\n",
            "Requirement already satisfied: pytz>=2017.3 in /usr/local/lib/python3.7/dist-packages (from pandas>=0.19->pmdarima) (2022.1)\n",
            "Requirement already satisfied: six>=1.5 in /usr/local/lib/python3.7/dist-packages (from python-dateutil>=2.7.3->pandas>=0.19->pmdarima) (1.15.0)\n",
            "Requirement already satisfied: threadpoolctl>=2.0.0 in /usr/local/lib/python3.7/dist-packages (from scikit-learn>=0.22->pmdarima) (3.1.0)\n",
            "Requirement already satisfied: patsy>=0.5 in /usr/local/lib/python3.7/dist-packages (from statsmodels!=0.12.0,>=0.11->pmdarima) (0.5.2)\n",
            "Installing collected packages: pmdarima\n",
            "Successfully installed pmdarima-1.8.5\n"
          ]
        }
      ],
      "source": [
        "!pip install pmdarima"
      ]
    },
    {
      "cell_type": "code",
      "execution_count": null,
      "metadata": {
        "colab": {
          "base_uri": "https://localhost:8080/"
        },
        "id": "up4sC6YpDZbc",
        "outputId": "911571c9-9ede-4b3c-a75f-085100635cd5"
      },
      "outputs": [
        {
          "name": "stdout",
          "output_type": "stream",
          "text": [
            "Name: pmdarima\n",
            "Version: 1.8.5\n",
            "Summary: Python's forecast::auto.arima equivalent\n",
            "Home-page: http://alkaline-ml.com/pmdarima\n",
            "Author: None\n",
            "Author-email: None\n",
            "License: MIT\n",
            "Location: /usr/local/lib/python3.7/dist-packages\n",
            "Requires: statsmodels, urllib3, pandas, joblib, scikit-learn, setuptools, Cython, scipy, numpy\n",
            "Required-by: \n"
          ]
        }
      ],
      "source": [
        "!pip show pmdarima"
      ]
    },
    {
      "cell_type": "markdown",
      "metadata": {
        "id": "HoWI5o_EjFM3"
      },
      "source": [
        "## Importação de Bibliotecas"
      ]
    },
    {
      "cell_type": "code",
      "execution_count": null,
      "metadata": {
        "colab": {
          "base_uri": "https://localhost:8080/"
        },
        "id": "e3GwDBJL6Dz_",
        "outputId": "006b23f4-8f2b-4e07-9588-872fa633fa78"
      },
      "outputs": [
        {
          "name": "stdout",
          "output_type": "stream",
          "text": [
            "Mounted at /content/drive\n"
          ]
        }
      ],
      "source": [
        "from google.colab import drive\n",
        "drive.mount('/content/drive')\n",
        "\n",
        "# Vinculando endereços de drive para query\n",
        "path = '/content/drive/My Drive/USP/TCC/Database/'\n",
        "file1 = 'BackUp of CSV_deliveries.csv'\n",
        "file2 = 'CSV_production.csv'"
      ]
    },
    {
      "cell_type": "code",
      "execution_count": null,
      "metadata": {
        "id": "_zGTgiyB6E0w"
      },
      "outputs": [],
      "source": [
        "# Importanto as bibliotecas\n",
        "import pandas as pd\n",
        "import numpy as np\n",
        "import matplotlib.pyplot as plt\n",
        "import seaborn as sns\n",
        "\n",
        "# Importando pacotes necessários\n",
        "from sklearn.metrics import mean_absolute_error\n",
        "from sklearn.metrics import mean_absolute_percentage_error\n",
        "from statsmodels.tsa.seasonal import seasonal_decompose\n",
        "from statsmodels.tsa.forecasting.theta import ThetaModel\n",
        "from statsmodels.tsa.holtwinters import ExponentialSmoothing\n",
        "from matplotlib import pyplot\n",
        "from statsmodels.tsa.statespace.sarimax import SARIMAX\n",
        "from statsmodels.tsa.stattools import adfuller\n",
        "from statsmodels.graphics.tsaplots import plot_acf, plot_pacf\n",
        "from pmdarima import auto_arima\n",
        "%matplotlib inline\n",
        "\n",
        "# Ignorar mensagens de erro\n",
        "import warnings\n",
        "warnings.filterwarnings('ignore')\n",
        "\n",
        "# Definindo o tamanho e estilo dos gráficos\n",
        "plt.rc(\"figure\",figsize=(15,8))\n",
        "plt.rc(\"font\",size=15)\n",
        "plt.rc(\"lines\",linewidth=2)\n",
        "sns.set_style(\"whitegrid\")"
      ]
    },
    {
      "cell_type": "markdown",
      "metadata": {
        "id": "Ut31JhkAJGq_"
      },
      "source": [
        "# _**Base de dados**_"
      ]
    },
    {
      "cell_type": "markdown",
      "metadata": {
        "id": "suHJwfscPCXd"
      },
      "source": [
        "### Leitura de DataFrames"
      ]
    },
    {
      "cell_type": "code",
      "execution_count": null,
      "metadata": {
        "id": "ZZ5IziUD6TO0"
      },
      "outputs": [],
      "source": [
        "## Importação da base de dados de entregas (CSV_deliveries.csv) do ORACLE\n",
        "df1 = pd.read_csv(path+file1)\n",
        "df1['Deliveries'].fillna(0,inplace=True)\n",
        "\n",
        "## Dataframe global\n",
        "df1['Date'] = pd.to_datetime(df1['Date'])\n",
        "dm1 = df1.groupby(pd.Grouper(key='Date', freq='M'))['Deliveries'].sum()\n",
        "#dm.index = dm.index.strftime('%B')\n",
        "dm1 = pd.DataFrame(dm1)\n",
        "\n",
        "## Plotar as entregas mensais\n",
        "sns.set_style('ticks')\n",
        "mDeliveries = sns.lineplot(data = dm1, x=dm1.index, y = dm1['Deliveries'], color = 'green')\n",
        "mDeliveries.set_title('Volume de Entregas Mensais (em toneladas)', fontsize = 15)\n",
        "mDeliveries.set_ylabel('Entregas (ton)', fontsize = 13)\n",
        "mDeliveries.set_xlabel('Meses', fontsize = 13)\n",
        "plt.show()"
      ]
    },
    {
      "cell_type": "code",
      "execution_count": null,
      "metadata": {
        "id": "c4tIL_4FGe-Z"
      },
      "outputs": [],
      "source": [
        "## Importação da base de dados de entregas (CSV_production.csv) do ORACLE\n",
        "df2 = pd.read_csv(path+file2)\n",
        "df2['Quantity'].fillna(0,inplace=True)\n",
        "\n",
        "## Dataframe global\n",
        "df2['Date'] = pd.to_datetime(df2['Date'])\n",
        "dm2 = df2.groupby(pd.Grouper(key='Date', freq='M'))['Quantity'].sum()\n",
        "#dm2.index = dm2.index.strftime('%B')\n",
        "dm2 = pd.DataFrame(dm2)\n",
        "\n",
        "## Plotar as entregas mensais\n",
        "sns.set_style('ticks')\n",
        "mProduction = sns.lineplot(data = dm2, x=dm2.index, y = dm2['Quantity'], color = 'blue')\n",
        "mProduction.set_title('Produção Mensal (em toneladas)', fontsize = 15)\n",
        "mProduction.set_ylabel('Produção (ton)', fontsize = 13)\n",
        "mProduction.set_xlabel('Meses', fontsize = 13)\n",
        "plt.show()"
      ]
    },
    {
      "cell_type": "markdown",
      "metadata": {
        "id": "uOX-3nos28wT"
      },
      "source": [
        "### Dataframes de Entregas"
      ]
    },
    {
      "cell_type": "code",
      "execution_count": null,
      "metadata": {
        "id": "z4kHhCZN6Y2u"
      },
      "outputs": [],
      "source": [
        "# CSV_deliveries.csv\n",
        "# Fazendo tratamento da base de entregas (faturamento) para criar DataFrames para cada unidade produtora\n",
        "\n",
        "# Criando dataframes para Porto Nacional\n",
        "\n",
        "df1_PNO = df1[(df1['pUnit'] == 'PNO')]\n",
        "\n",
        "dm1_PNO = df1_PNO.copy()\n",
        "dm1_PNO['Date'] = pd.to_datetime(df1_PNO['Date'])\n",
        "dm1_PNO = df1_PNO.groupby(pd.Grouper(key='Date', freq='M'))['Deliveries'].sum()\n",
        "#dm.index = dm.index.strftime('%B')\n",
        "dm1_PNO = pd.DataFrame(dm1_PNO)\n",
        "\n",
        "df1_PNO = df1_PNO.groupby(by='Date',as_index=False)['Deliveries'].sum()\n",
        "mask_PNO = df1[(df1['pUnit'].isnull())].drop(['bUnit','pUnit','Regional'],axis='columns')\n",
        "df1_PNO = df1_PNO.append(mask_PNO)\n",
        "df1_PNO['Date'] = pd.to_datetime(df1_PNO['Date'])\n",
        "df1_PNO = df1_PNO.set_index('Date').sort_index(axis = 0)\n",
        "\n",
        "idx = pd.date_range(start = df1_PNO.index.min(), end = df1_PNO.index.max(), freq='D')\n",
        "df1_PNO = df1_PNO.reindex(idx)\n",
        "\n",
        "df1_PNO[df1_PNO['Deliveries'] < 0] = 0\n",
        "df1_PNO = df1_PNO.fillna(0)\n",
        "\n",
        "# Criando dataframes para São Luís\n",
        "\n",
        "df1_SLO = df1[(df1['pUnit'] == 'SLO')]\n",
        "\n",
        "dm1_SLO = df1_SLO.copy()\n",
        "dm1_SLO['Date'] = pd.to_datetime(df1_SLO['Date'])\n",
        "dm1_SLO = df1_SLO.groupby(pd.Grouper(key='Date', freq='M'))['Deliveries'].sum()\n",
        "#dm.index = dm.index.strftime('%B')\n",
        "dm1_SLO = pd.DataFrame(dm1_SLO)\n",
        "\n",
        "df1_SLO = df1_SLO.groupby(by='Date',as_index=False)['Deliveries'].sum()\n",
        "mask_SLO = df1[(df1['pUnit'].isnull())].drop(['bUnit','pUnit','Regional'],axis='columns')\n",
        "df1_SLO = df1_SLO.append(mask_SLO)\n",
        "df1_SLO['Date'] = pd.to_datetime(df1_SLO['Date'])\n",
        "df1_SLO = df1_SLO.set_index('Date').sort_index(axis = 0)\n",
        "\n",
        "idx = pd.date_range(start = df1_SLO.index.min(), end = df1_SLO.index.max(), freq='D')\n",
        "df1_SLO = df1_SLO.reindex(idx)\n",
        "\n",
        "df1_SLO[df1_SLO['Deliveries'] < 0] = 0\n",
        "df1_SLO = df1_SLO.fillna(0)\n",
        "\n",
        "# Criando dataframes para Querência\n",
        "\n",
        "df1_QRO = df1[(df1['pUnit'] == 'QRO')]\n",
        "\n",
        "dm1_QRO = df1_QRO.copy()\n",
        "dm1_QRO['Date'] = pd.to_datetime(df1_QRO['Date'])\n",
        "dm1_QRO = df1_QRO.groupby(pd.Grouper(key='Date', freq='M'))['Deliveries'].sum()\n",
        "#dm.index = dm.index.strftime('%B')\n",
        "dm1_QRO = pd.DataFrame(dm1_QRO)\n",
        "\n",
        "df1_QRO = df1_QRO.groupby(by='Date',as_index=False)['Deliveries'].sum()\n",
        "mask_QRO = df1[(df1['pUnit'].isnull())].drop(['bUnit','pUnit','Regional'],axis='columns')\n",
        "df1_QRO = df1_QRO.append(mask_QRO)\n",
        "df1_QRO['Date'] = pd.to_datetime(df1_QRO['Date'])\n",
        "df1_QRO = df1_QRO.set_index('Date').sort_index(axis = 0)\n",
        "\n",
        "idx = pd.date_range(start = df1_QRO.index.min(), end = df1_QRO.index.max(), freq='D')\n",
        "df1_QRO = df1_QRO.reindex(idx)\n",
        "\n",
        "df1_QRO[df1_QRO['Deliveries'] < 0] = 0\n",
        "df1_QRO = df1_QRO.fillna(0)\n",
        "\n",
        "# Criando dataframes para Barcarena\n",
        "\n",
        "df1_BCO = df1[(df1['pUnit'] == 'BCO')]\n",
        "\n",
        "dm1_BCO = df1_BCO.copy()\n",
        "dm1_BCO['Date'] = pd.to_datetime(df1_BCO['Date'])\n",
        "dm1_BCO = df1_BCO.groupby(pd.Grouper(key='Date', freq='M'))['Deliveries'].sum()\n",
        "#dm.index = dm.index.strftime('%B')\n",
        "dm1_BCO = pd.DataFrame(dm1_BCO)\n",
        "\n",
        "df1_BCO = df1_BCO.groupby(by='Date',as_index=False)['Deliveries'].sum()\n",
        "mask_BCO = df1[(df1['pUnit'].isnull())].drop(['bUnit','pUnit','Regional'],axis='columns')\n",
        "df1_BCO = df1_BCO.append(mask_BCO)\n",
        "df1_BCO['Date'] = pd.to_datetime(df1_BCO['Date'])\n",
        "df1_BCO = df1_BCO.set_index('Date').sort_index(axis = 0)\n",
        "\n",
        "idx = pd.date_range(start = df1_BCO.index.min(), end = df1_BCO.index.max(), freq='D')\n",
        "df1_BCO = df1_BCO.reindex(idx)\n",
        "\n",
        "df1_BCO[df1_BCO['Deliveries'] < 0] = 0\n",
        "df1_BCO = df1_BCO.fillna(0)\n",
        "\n",
        "# Criando dataframes para Fertimaxi\n",
        "\n",
        "df1_FTX = df1[(df1['pUnit'] == 'FTX')]\n",
        "\n",
        "dm1_FTX = df1_FTX.copy()\n",
        "dm1_FTX['Date'] = pd.to_datetime(df1_FTX['Date'])\n",
        "dm1_FTX = df1_FTX.groupby(pd.Grouper(key='Date', freq='M'))['Deliveries'].sum()\n",
        "#dm.index = dm.index.strftime('%B')\n",
        "dm1_FTX = pd.DataFrame(dm1_FTX)\n",
        "\n",
        "df1_FTX = df1_FTX.groupby(by='Date',as_index=False)['Deliveries'].sum()\n",
        "mask_FTX = df1[(df1['pUnit'].isnull())].drop(['bUnit','pUnit','Regional'],axis='columns')\n",
        "df1_FTX = df1_FTX.append(mask_FTX)\n",
        "df1_FTX['Date'] = pd.to_datetime(df1_FTX['Date'])\n",
        "df1_FTX = df1_FTX.set_index('Date').sort_index(axis = 0)\n",
        "\n",
        "idx = pd.date_range(start = df1_FTX.index.min(), end = df1_FTX.index.max(), freq='D')\n",
        "df1_FTX = df1_FTX.reindex(idx)\n",
        "\n",
        "df1_FTX[df1_FTX['Deliveries'] < 0] = 0\n",
        "df1_FTX = df1_FTX.fillna(0)\n",
        "\n",
        "# Criando dataframes para Intermarítima\n",
        "\n",
        "df1_INT = df1[(df1['pUnit'] == 'INT')]\n",
        "\n",
        "dm1_INT = df1_INT.copy()\n",
        "dm1_INT['Date'] = pd.to_datetime(df1_INT['Date'])\n",
        "dm1_INT = df1_INT.groupby(pd.Grouper(key='Date', freq='M'))['Deliveries'].sum()\n",
        "#dm.index = dm.index.strftime('%B')\n",
        "dm1_INT = pd.DataFrame(dm1_INT)\n",
        "\n",
        "df1_INT = df1_INT.groupby(by='Date',as_index=False)['Deliveries'].sum()\n",
        "mask_INT = df1[(df1['pUnit'].isnull())].drop(['bUnit','pUnit','Regional'],axis='columns')\n",
        "df1_INT = df1_INT.append(mask_INT)\n",
        "df1_INT['Date'] = pd.to_datetime(df1_INT['Date'])\n",
        "df1_INT = df1_INT.set_index('Date').sort_index(axis = 0)\n",
        "\n",
        "idx = pd.date_range(start = df1_INT.index.min(), end = df1_INT.index.max(), freq='D')\n",
        "df1_INT = df1_INT.reindex(idx)\n",
        "\n",
        "df1_INT[df1_INT['Deliveries'] < 0] = 0\n",
        "df1_INT = df1_INT.fillna(0)\n",
        "\n",
        "# Criando dataframes para Sinop\n",
        "\n",
        "df1_SNO = df1[(df1['pUnit'] == 'SNO')]\n",
        "\n",
        "dm1_SNO = df1_SNO.copy()\n",
        "dm1_SNO['Date'] = pd.to_datetime(df1_SNO['Date'])\n",
        "dm1_SNO = df1_SNO.groupby(pd.Grouper(key='Date', freq='M'))['Deliveries'].sum()\n",
        "#dm.index = dm.index.strftime('%B')\n",
        "dm1_SNO = pd.DataFrame(dm1_SNO)\n",
        "\n",
        "df1_SNO = df1_SNO.groupby(by='Date',as_index=False)['Deliveries'].sum()\n",
        "mask_SNO = df1[(df1['pUnit'].isnull())].drop(['bUnit','pUnit','Regional'],axis='columns')\n",
        "df1_SNO = df1_SNO.append(mask_SNO)\n",
        "df1_SNO['Date'] = pd.to_datetime(df1_SNO['Date'])\n",
        "df1_SNO = df1_SNO.set_index('Date').sort_index(axis = 0)\n",
        "\n",
        "idx = pd.date_range(start = df1_SNO.index.min(), end = df1_SNO.index.max(), freq='D')\n",
        "df1_SNO = df1_SNO.reindex(idx)\n",
        "\n",
        "df1_SNO[df1_SNO['Deliveries'] < 0] = 0\n",
        "df1_SNO = df1_SNO.fillna(0)\n",
        "\n",
        "# Criando dataframes para Rondonópolis\n",
        "\n",
        "df1_RNO = df1[(df1['pUnit'] == 'RNO')]\n",
        "\n",
        "dm1_RNO = df1_RNO.copy()\n",
        "dm1_RNO['Date'] = pd.to_datetime(df1_RNO['Date'])\n",
        "dm1_RNO = df1_RNO.groupby(pd.Grouper(key='Date', freq='M'))['Deliveries'].sum()\n",
        "#dm.index = dm.index.strftime('%B')\n",
        "dm1_RNO = pd.DataFrame(dm1_RNO)\n",
        "\n",
        "df1_RNO = df1_RNO.groupby(by='Date',as_index=False)['Deliveries'].sum()\n",
        "mask_RNO = df1[(df1['pUnit'].isnull())].drop(['bUnit','pUnit','Regional'],axis='columns')\n",
        "df1_RNO = df1_RNO.append(mask_RNO)\n",
        "df1_RNO['Date'] = pd.to_datetime(df1_RNO['Date'])\n",
        "df1_RNO = df1_RNO.set_index('Date').sort_index(axis = 0)\n",
        "\n",
        "idx = pd.date_range(start = df1_RNO.index.min(), end = df1_RNO.index.max(), freq='D')\n",
        "df1_RNO = df1_RNO.reindex(idx)\n",
        "\n",
        "df1_RNO[df1_RNO['Deliveries'] < 0] = 0\n",
        "df1_RNO = df1_RNO.fillna(0)\n",
        "\n",
        "# Criando dataframes para Catalão\n",
        "\n",
        "df1_CTO = df1[(df1['pUnit'] == 'CTO')]\n",
        "\n",
        "dm1_CTO = df1_CTO.copy()\n",
        "dm1_CTO['Date'] = pd.to_datetime(df1_CTO['Date'])\n",
        "dm1_CTO = df1_CTO.groupby(pd.Grouper(key='Date', freq='M'))['Deliveries'].sum()\n",
        "#dm.index = dm.index.strftime('%B')\n",
        "dm1_CTO = pd.DataFrame(dm1_CTO)\n",
        "\n",
        "df1_CTO = df1_CTO.groupby(by='Date',as_index=False)['Deliveries'].sum()\n",
        "mask_CTO = df1[(df1['pUnit'].isnull())].drop(['bUnit','pUnit','Regional'],axis='columns')\n",
        "df1_CTO = df1_CTO.append(mask_CTO)\n",
        "df1_CTO['Date'] = pd.to_datetime(df1_CTO['Date'])\n",
        "df1_CTO = df1_CTO.set_index('Date').sort_index(axis = 0)\n",
        "\n",
        "idx = pd.date_range(start = df1_CTO.index.min(), end = df1_CTO.index.max(), freq='D')\n",
        "df1_CTO = df1_CTO.reindex(idx)\n",
        "\n",
        "df1_CTO[df1_CTO['Deliveries'] < 0] = 0\n",
        "df1_CTO = df1_CTO.fillna(0)\n",
        "\n",
        "# Criando dataframes para Paranaguá\n",
        "\n",
        "df1_PGU = df1[(df1['pUnit'] == 'PGU')]\n",
        "\n",
        "dm1_PGU = df1_PGU.copy()\n",
        "dm1_PGU['Date'] = pd.to_datetime(df1_PGU['Date'])\n",
        "dm1_PGU = df1_PGU.groupby(pd.Grouper(key='Date', freq='M'))['Deliveries'].sum()\n",
        "#dm.index = dm.index.strftime('%B')\n",
        "dm1_PGU = pd.DataFrame(dm1_PGU)\n",
        "\n",
        "df1_PGU = df1_PGU.groupby(by='Date',as_index=False)['Deliveries'].sum()\n",
        "mask_PGU = df1[(df1['pUnit'].isnull())].drop(['bUnit','pUnit','Regional'],axis='columns')\n",
        "df1_PGU = df1_PGU.append(mask_PGU)\n",
        "df1_PGU['Date'] = pd.to_datetime(df1_PGU['Date'])\n",
        "df1_PGU = df1_PGU.set_index('Date').sort_index(axis = 0)\n",
        "\n",
        "idx = pd.date_range(start = df1_PGU.index.min(), end = df1_PGU.index.max(), freq='D')\n",
        "df1_PGU = df1_PGU.reindex(idx)\n",
        "\n",
        "df1_PGU[df1_PGU['Deliveries'] < 0] = 0\n",
        "df1_PGU = df1_PGU.fillna(0)\n",
        "\n",
        "# Criando dataframes para Araguari\n",
        "\n",
        "df1_ARO = df1[(df1['pUnit'] == 'ARO')]\n",
        "\n",
        "dm1_ARO = df1_ARO.copy()\n",
        "dm1_ARO['Date'] = pd.to_datetime(df1_ARO['Date'])\n",
        "dm1_ARO = df1_ARO.groupby(pd.Grouper(key='Date', freq='M'))['Deliveries'].sum()\n",
        "#dm.index = dm.index.strftime('%B')\n",
        "dm1_ARO = pd.DataFrame(dm1_ARO)\n",
        "\n",
        "df1_ARO = df1_ARO.groupby(by='Date',as_index=False)['Deliveries'].sum()\n",
        "mask_ARO = df1[(df1['pUnit'].isnull())].drop(['bUnit','pUnit','Regional'],axis='columns')\n",
        "df1_ARO = df1_ARO.append(mask_ARO)\n",
        "df1_ARO['Date'] = pd.to_datetime(df1_ARO['Date'])\n",
        "df1_ARO = df1_ARO.set_index('Date').sort_index(axis = 0)\n",
        "\n",
        "idx = pd.date_range(start = df1_ARO.index.min(), end = df1_ARO.index.max(), freq='D')\n",
        "df1_ARO = df1_ARO.reindex(idx)\n",
        "\n",
        "df1_ARO[df1_ARO['Deliveries'] < 0] = 0\n",
        "df1_ARO = df1_ARO.fillna(0)"
      ]
    },
    {
      "cell_type": "code",
      "execution_count": null,
      "metadata": {
        "id": "-ZOuq0uHOP8f"
      },
      "outputs": [],
      "source": [
        "df1 = df1.groupby(by='Date',as_index=False)['Deliveries'].sum()\n",
        "df1['Date'] = pd.to_datetime(df1['Date'])\n",
        "df1= df1.set_index('Date').sort_index(axis = 0)"
      ]
    },
    {
      "cell_type": "markdown",
      "metadata": {
        "id": "cRQ6VTVSsPxY"
      },
      "source": [
        "### Dataframes de Produção"
      ]
    },
    {
      "cell_type": "code",
      "execution_count": null,
      "metadata": {
        "id": "Amkw0V2_aeWD"
      },
      "outputs": [],
      "source": [
        "## Definir quais são as Matérias-Primas de interesse\n",
        "MP1 = 'KCL'\n",
        "MP2 = 'UREIA'\n",
        "MP3 = 'MAP'\n",
        "MP4 = 'TSP'\n",
        "MP5 = 'SSP'"
      ]
    },
    {
      "cell_type": "code",
      "execution_count": null,
      "metadata": {
        "id": "3SMHJeivz5Kk"
      },
      "outputs": [],
      "source": [
        "# CSV_prodution.csv\n",
        "# Fazendo tratamento da base de produção (consumo de matéria-prima) para criar DataFrames para cada unidade produtora\n",
        "\n",
        "\n",
        "# Criando DataFrames para Porto Nacional\n",
        "df2_PNO = df2[(df2['pUnit'] == 'PNO')]\n",
        "df2_PNO_MP1 = df2_PNO[(df2_PNO['ProductGenDesc'] == MP1)]\n",
        "df2_PNO_MP2 = df2_PNO[(df2_PNO['ProductGenDesc'] == MP2)]\n",
        "df2_PNO_MP3 = df2_PNO[(df2_PNO['ProductGenDesc'] == MP3)]\n",
        "df2_PNO_MP4 = df2_PNO[(df2_PNO['ProductGenDesc'] == MP4)]\n",
        "df2_PNO_MP5 = df2_PNO[(df2_PNO['ProductGenDesc'] == MP5)]\n",
        "\n",
        "dm2_PNO_MP1 = df2_PNO_MP1.copy()\n",
        "dm2_PNO_MP1 = dm2_PNO_MP1.groupby(pd.Grouper(key='Date',freq='M'))['Quantity'].sum()\n",
        "dm2_PNO_MP1 = pd.DataFrame(dm2_PNO_MP1)\n",
        "df2_PNO_MP1 = df2_PNO_MP1.groupby(pd.Grouper(key='Date',freq='D'))['Quantity'].sum()\n",
        "df2_PNO_MP1 = pd.DataFrame(df2_PNO_MP1)\n",
        "\n",
        "dm2_PNO_MP2 = df2_PNO_MP2.copy()\n",
        "dm2_PNO_MP2 = dm2_PNO_MP2.groupby(pd.Grouper(key='Date',freq='M'))['Quantity'].sum()\n",
        "dm2_PNO_MP2 = pd.DataFrame(dm2_PNO_MP2)\n",
        "df2_PNO_MP2 = df2_PNO_MP2.groupby(pd.Grouper(key='Date',freq='D'))['Quantity'].sum()\n",
        "df2_PNO_MP2 = pd.DataFrame(df2_PNO_MP2)\n",
        "\n",
        "dm2_PNO_MP3 = df2_PNO_MP3.copy()\n",
        "dm2_PNO_MP3 = dm2_PNO_MP3.groupby(pd.Grouper(key='Date',freq='M'))['Quantity'].sum()\n",
        "dm2_PNO_MP3 = pd.DataFrame(dm2_PNO_MP3)\n",
        "df2_PNO_MP3 = df2_PNO_MP3.groupby(pd.Grouper(key='Date',freq='D'))['Quantity'].sum()\n",
        "df2_PNO_MP3 = pd.DataFrame(df2_PNO_MP3)\n",
        "\n",
        "dm2_PNO_MP4 = df2_PNO_MP4.copy()\n",
        "dm2_PNO_MP4 = dm2_PNO_MP4.groupby(pd.Grouper(key='Date',freq='M'))['Quantity'].sum()\n",
        "dm2_PNO_MP4 = pd.DataFrame(dm2_PNO_MP4)\n",
        "df2_PNO_MP4 = df2_PNO_MP4.groupby(pd.Grouper(key='Date',freq='D'))['Quantity'].sum()\n",
        "df2_PNO_MP4 = pd.DataFrame(df2_PNO_MP4)\n",
        "\n",
        "dm2_PNO_MP5 = df2_PNO_MP5.copy()\n",
        "dm2_PNO_MP5 = dm2_PNO_MP5.groupby(pd.Grouper(key='Date',freq='M'))['Quantity'].sum()\n",
        "dm2_PNO_MP5 = pd.DataFrame(dm2_PNO_MP5)\n",
        "df2_PNO_MP5 = df2_PNO_MP5.groupby(pd.Grouper(key='Date',freq='D'))['Quantity'].sum()\n",
        "df2_PNO_MP5 = pd.DataFrame(df2_PNO_MP5)\n",
        "\n",
        "# Criando DataFrames para São Luís\n",
        "df2_SLO = df2[(df2['pUnit'] == 'SLO')]\n",
        "df2_SLO_MP1 = df2_SLO[(df2_SLO['ProductGenDesc'] == MP1)]\n",
        "df2_SLO_MP2 = df2_SLO[(df2_SLO['ProductGenDesc'] == MP2)]\n",
        "df2_SLO_MP3 = df2_SLO[(df2_SLO['ProductGenDesc'] == MP3)]\n",
        "df2_SLO_MP4 = df2_SLO[(df2_SLO['ProductGenDesc'] == MP4)]\n",
        "df2_SLO_MP5 = df2_SLO[(df2_SLO['ProductGenDesc'] == MP5)]\n",
        "\n",
        "dm2_SLO_MP1 = df2_SLO_MP1.copy()\n",
        "dm2_SLO_MP1 = dm2_SLO_MP1.groupby(pd.Grouper(key='Date',freq='M'))['Quantity'].sum()\n",
        "dm2_SLO_MP1 = pd.DataFrame(dm2_SLO_MP1)\n",
        "df2_SLO_MP1 = df2_SLO_MP1.groupby(pd.Grouper(key='Date',freq='D'))['Quantity'].sum()\n",
        "df2_SLO_MP1 = pd.DataFrame(df2_SLO_MP1)\n",
        "\n",
        "dm2_SLO_MP2 = df2_SLO_MP2.copy()\n",
        "dm2_SLO_MP2 = dm2_SLO_MP2.groupby(pd.Grouper(key='Date',freq='M'))['Quantity'].sum()\n",
        "dm2_SLO_MP2 = pd.DataFrame(dm2_SLO_MP2)\n",
        "df2_SLO_MP2 = df2_SLO_MP2.groupby(pd.Grouper(key='Date',freq='D'))['Quantity'].sum()\n",
        "df2_SLO_MP2 = pd.DataFrame(df2_SLO_MP2)\n",
        "\n",
        "dm2_SLO_MP3 = df2_SLO_MP3.copy()\n",
        "dm2_SLO_MP3 = dm2_SLO_MP3.groupby(pd.Grouper(key='Date',freq='M'))['Quantity'].sum()\n",
        "dm2_SLO_MP3 = pd.DataFrame(dm2_SLO_MP3)\n",
        "df2_SLO_MP3 = df2_SLO_MP3.groupby(pd.Grouper(key='Date',freq='D'))['Quantity'].sum()\n",
        "df2_SLO_MP3 = pd.DataFrame(df2_SLO_MP3)\n",
        "\n",
        "dm2_SLO_MP4 = df2_SLO_MP4.copy()\n",
        "dm2_SLO_MP4 = dm2_SLO_MP4.groupby(pd.Grouper(key='Date',freq='M'))['Quantity'].sum()\n",
        "dm2_SLO_MP4 = pd.DataFrame(dm2_SLO_MP4)\n",
        "df2_SLO_MP4 = df2_SLO_MP4.groupby(pd.Grouper(key='Date',freq='D'))['Quantity'].sum()\n",
        "df2_SLO_MP4 = pd.DataFrame(df2_SLO_MP4)\n",
        "\n",
        "dm2_SLO_MP5 = df2_SLO_MP5.copy()\n",
        "dm2_SLO_MP5 = dm2_SLO_MP5.groupby(pd.Grouper(key='Date',freq='M'))['Quantity'].sum()\n",
        "dm2_SLO_MP5 = pd.DataFrame(dm2_SLO_MP5)\n",
        "df2_SLO_MP5 = df2_SLO_MP5.groupby(pd.Grouper(key='Date',freq='D'))['Quantity'].sum()\n",
        "df2_SLO_MP5 = pd.DataFrame(df2_SLO_MP5)\n",
        "\n",
        "# Criando DataFrames para Querência\n",
        "df2_QRO = df2[(df2['pUnit'] == 'QRO')]\n",
        "df2_QRO_MP1 = df2_QRO[(df2_QRO['ProductGenDesc'] == MP1)]\n",
        "df2_QRO_MP2 = df2_QRO[(df2_QRO['ProductGenDesc'] == MP2)]\n",
        "df2_QRO_MP3 = df2_QRO[(df2_QRO['ProductGenDesc'] == MP3)]\n",
        "df2_QRO_MP4 = df2_QRO[(df2_QRO['ProductGenDesc'] == MP4)]\n",
        "df2_QRO_MP5 = df2_QRO[(df2_QRO['ProductGenDesc'] == MP5)]\n",
        "\n",
        "dm2_QRO_MP1 = df2_QRO_MP1.copy()\n",
        "dm2_QRO_MP1 = dm2_QRO_MP1.groupby(pd.Grouper(key='Date',freq='M'))['Quantity'].sum()\n",
        "dm2_QRO_MP1 = pd.DataFrame(dm2_QRO_MP1)\n",
        "df2_QRO_MP1 = df2_QRO_MP1.groupby(pd.Grouper(key='Date',freq='D'))['Quantity'].sum()\n",
        "df2_QRO_MP1 = pd.DataFrame(df2_QRO_MP1)\n",
        "\n",
        "dm2_QRO_MP2 = df2_QRO_MP2.copy()\n",
        "dm2_QRO_MP2 = dm2_QRO_MP2.groupby(pd.Grouper(key='Date',freq='M'))['Quantity'].sum()\n",
        "dm2_QRO_MP2 = pd.DataFrame(dm2_QRO_MP2)\n",
        "df2_QRO_MP2 = df2_QRO_MP2.groupby(pd.Grouper(key='Date',freq='D'))['Quantity'].sum()\n",
        "df2_QRO_MP2 = pd.DataFrame(df2_QRO_MP2)\n",
        "\n",
        "dm2_QRO_MP3 = df2_QRO_MP3.copy()\n",
        "dm2_QRO_MP3 = dm2_QRO_MP3.groupby(pd.Grouper(key='Date',freq='M'))['Quantity'].sum()\n",
        "dm2_QRO_MP3 = pd.DataFrame(dm2_QRO_MP3)\n",
        "df2_QRO_MP3 = df2_QRO_MP3.groupby(pd.Grouper(key='Date',freq='D'))['Quantity'].sum()\n",
        "df2_QRO_MP3 = pd.DataFrame(df2_QRO_MP3)\n",
        "\n",
        "dm2_QRO_MP4 = df2_QRO_MP4.copy()\n",
        "dm2_QRO_MP4 = dm2_QRO_MP4.groupby(pd.Grouper(key='Date',freq='M'))['Quantity'].sum()\n",
        "dm2_QRO_MP4 = pd.DataFrame(dm2_QRO_MP4)\n",
        "df2_QRO_MP4 = df2_QRO_MP4.groupby(pd.Grouper(key='Date',freq='D'))['Quantity'].sum()\n",
        "df2_QRO_MP4 = pd.DataFrame(df2_QRO_MP4)\n",
        "\n",
        "dm2_QRO_MP5 = df2_QRO_MP5.copy()\n",
        "dm2_QRO_MP5 = dm2_QRO_MP5.groupby(pd.Grouper(key='Date',freq='M'))['Quantity'].sum()\n",
        "dm2_QRO_MP5 = pd.DataFrame(dm2_QRO_MP5)\n",
        "df2_QRO_MP5 = df2_QRO_MP5.groupby(pd.Grouper(key='Date',freq='D'))['Quantity'].sum()\n",
        "df2_QRO_MP5 = pd.DataFrame(df2_QRO_MP5)\n",
        "\n",
        "# Criando DataFrames para Barcarena\n",
        "df2_BCO = df2[(df2['pUnit'] == 'BCO')]\n",
        "df2_BCO_MP1 = df2_BCO[(df2_BCO['ProductGenDesc'] == MP1)]\n",
        "df2_BCO_MP2 = df2_BCO[(df2_BCO['ProductGenDesc'] == MP2)]\n",
        "df2_BCO_MP3 = df2_BCO[(df2_BCO['ProductGenDesc'] == MP3)]\n",
        "df2_BCO_MP4 = df2_BCO[(df2_BCO['ProductGenDesc'] == MP4)]\n",
        "df2_BCO_MP5 = df2_BCO[(df2_BCO['ProductGenDesc'] == MP5)]\n",
        "\n",
        "dm2_BCO_MP1 = df2_BCO_MP1.copy()\n",
        "dm2_BCO_MP1 = dm2_BCO_MP1.groupby(pd.Grouper(key='Date',freq='M'))['Quantity'].sum()\n",
        "dm2_BCO_MP1 = pd.DataFrame(dm2_BCO_MP1)\n",
        "df2_BCO_MP1 = df2_BCO_MP1.groupby(pd.Grouper(key='Date',freq='D'))['Quantity'].sum()\n",
        "df2_BCO_MP1 = pd.DataFrame(df2_BCO_MP1)\n",
        "\n",
        "dm2_BCO_MP2 = df2_BCO_MP2.copy()\n",
        "dm2_BCO_MP2 = dm2_BCO_MP2.groupby(pd.Grouper(key='Date',freq='M'))['Quantity'].sum()\n",
        "dm2_BCO_MP2 = pd.DataFrame(dm2_BCO_MP2)\n",
        "df2_BCO_MP2 = df2_BCO_MP2.groupby(pd.Grouper(key='Date',freq='D'))['Quantity'].sum()\n",
        "df2_BCO_MP2 = pd.DataFrame(df2_BCO_MP2)\n",
        "\n",
        "dm2_BCO_MP3 = df2_BCO_MP3.copy()\n",
        "dm2_BCO_MP3 = dm2_BCO_MP3.groupby(pd.Grouper(key='Date',freq='M'))['Quantity'].sum()\n",
        "dm2_BCO_MP3 = pd.DataFrame(dm2_BCO_MP3)\n",
        "df2_BCO_MP3 = df2_BCO_MP3.groupby(pd.Grouper(key='Date',freq='D'))['Quantity'].sum()\n",
        "df2_BCO_MP3 = pd.DataFrame(df2_BCO_MP3)\n",
        "\n",
        "dm2_BCO_MP4 = df2_BCO_MP4.copy()\n",
        "dm2_BCO_MP4 = dm2_BCO_MP4.groupby(pd.Grouper(key='Date',freq='M'))['Quantity'].sum()\n",
        "dm2_BCO_MP4 = pd.DataFrame(dm2_BCO_MP4)\n",
        "df2_BCO_MP4 = df2_BCO_MP4.groupby(pd.Grouper(key='Date',freq='D'))['Quantity'].sum()\n",
        "df2_BCO_MP4 = pd.DataFrame(df2_BCO_MP4)\n",
        "\n",
        "dm2_BCO_MP5 = df2_BCO_MP5.copy()\n",
        "dm2_BCO_MP5 = dm2_BCO_MP5.groupby(pd.Grouper(key='Date',freq='M'))['Quantity'].sum()\n",
        "dm2_BCO_MP5 = pd.DataFrame(dm2_BCO_MP5)\n",
        "df2_BCO_MP5 = df2_BCO_MP5.groupby(pd.Grouper(key='Date',freq='D'))['Quantity'].sum()\n",
        "df2_BCO_MP5 = pd.DataFrame(df2_BCO_MP5)\n",
        "\n",
        "# Criando DataFrames para Fertimaxi\n",
        "df2_FTX = df2[(df2['pUnit'] == 'FTX')]\n",
        "df2_FTX_MP1 = df2_FTX[(df2_FTX['ProductGenDesc'] == MP1)]\n",
        "df2_FTX_MP2 = df2_FTX[(df2_FTX['ProductGenDesc'] == MP2)]\n",
        "df2_FTX_MP3 = df2_FTX[(df2_FTX['ProductGenDesc'] == MP3)]\n",
        "df2_FTX_MP4 = df2_FTX[(df2_FTX['ProductGenDesc'] == MP4)]\n",
        "df2_FTX_MP5 = df2_FTX[(df2_FTX['ProductGenDesc'] == MP5)]\n",
        "\n",
        "dm2_FTX_MP1 = df2_FTX_MP1.copy()\n",
        "dm2_FTX_MP1 = dm2_FTX_MP1.groupby(pd.Grouper(key='Date',freq='M'))['Quantity'].sum()\n",
        "dm2_FTX_MP1 = pd.DataFrame(dm2_FTX_MP1)\n",
        "df2_FTX_MP1 = df2_FTX_MP1.groupby(pd.Grouper(key='Date',freq='D'))['Quantity'].sum()\n",
        "df2_FTX_MP1 = pd.DataFrame(df2_FTX_MP1)\n",
        "\n",
        "dm2_FTX_MP2 = df2_FTX_MP2.copy()\n",
        "dm2_FTX_MP2 = dm2_FTX_MP2.groupby(pd.Grouper(key='Date',freq='M'))['Quantity'].sum()\n",
        "dm2_FTX_MP2 = pd.DataFrame(dm2_FTX_MP2)\n",
        "df2_FTX_MP2 = df2_FTX_MP2.groupby(pd.Grouper(key='Date',freq='D'))['Quantity'].sum()\n",
        "df2_FTX_MP2 = pd.DataFrame(df2_FTX_MP2)\n",
        "\n",
        "dm2_FTX_MP3 = df2_FTX_MP3.copy()\n",
        "dm2_FTX_MP3 = dm2_FTX_MP3.groupby(pd.Grouper(key='Date',freq='M'))['Quantity'].sum()\n",
        "dm2_FTX_MP3 = pd.DataFrame(dm2_FTX_MP3)\n",
        "df2_FTX_MP3 = df2_FTX_MP3.groupby(pd.Grouper(key='Date',freq='D'))['Quantity'].sum()\n",
        "df2_FTX_MP3 = pd.DataFrame(df2_FTX_MP3)\n",
        "\n",
        "dm2_FTX_MP4 = df2_FTX_MP4.copy()\n",
        "dm2_FTX_MP4 = dm2_FTX_MP4.groupby(pd.Grouper(key='Date',freq='M'))['Quantity'].sum()\n",
        "dm2_FTX_MP4 = pd.DataFrame(dm2_FTX_MP4)\n",
        "df2_FTX_MP4 = df2_FTX_MP4.groupby(pd.Grouper(key='Date',freq='D'))['Quantity'].sum()\n",
        "df2_FTX_MP4 = pd.DataFrame(df2_FTX_MP4)\n",
        "\n",
        "dm2_FTX_MP5 = df2_FTX_MP5.copy()\n",
        "dm2_FTX_MP5 = dm2_FTX_MP5.groupby(pd.Grouper(key='Date',freq='M'))['Quantity'].sum()\n",
        "dm2_FTX_MP5 = pd.DataFrame(dm2_FTX_MP5)\n",
        "df2_FTX_MP5 = df2_FTX_MP5.groupby(pd.Grouper(key='Date',freq='D'))['Quantity'].sum()\n",
        "df2_FTX_MP5 = pd.DataFrame(df2_FTX_MP5)\n",
        "\n",
        "# Criando DataFrames para Intermarítima\n",
        "df2_INT = df2[(df2['pUnit'] == 'INT')]\n",
        "df2_INT_MP1 = df2_INT[(df2_INT['ProductGenDesc'] == MP1)]\n",
        "df2_INT_MP2 = df2_INT[(df2_INT['ProductGenDesc'] == MP2)]\n",
        "df2_INT_MP3 = df2_INT[(df2_INT['ProductGenDesc'] == MP3)]\n",
        "df2_INT_MP4 = df2_INT[(df2_INT['ProductGenDesc'] == MP4)]\n",
        "df2_INT_MP5 = df2_INT[(df2_INT['ProductGenDesc'] == MP5)]\n",
        "\n",
        "dm2_INT_MP1 = df2_INT_MP1.copy()\n",
        "dm2_INT_MP1 = dm2_INT_MP1.groupby(pd.Grouper(key='Date',freq='M'))['Quantity'].sum()\n",
        "dm2_INT_MP1 = pd.DataFrame(dm2_INT_MP1)\n",
        "df2_INT_MP1 = df2_INT_MP1.groupby(pd.Grouper(key='Date',freq='D'))['Quantity'].sum()\n",
        "df2_INT_MP1 = pd.DataFrame(df2_INT_MP1)\n",
        "\n",
        "dm2_INT_MP2 = df2_INT_MP2.copy()\n",
        "dm2_INT_MP2 = dm2_INT_MP2.groupby(pd.Grouper(key='Date',freq='M'))['Quantity'].sum()\n",
        "dm2_INT_MP2 = pd.DataFrame(dm2_INT_MP2)\n",
        "df2_INT_MP2 = df2_INT_MP2.groupby(pd.Grouper(key='Date',freq='D'))['Quantity'].sum()\n",
        "df2_INT_MP2 = pd.DataFrame(df2_INT_MP2)\n",
        "\n",
        "dm2_INT_MP3 = df2_INT_MP3.copy()\n",
        "dm2_INT_MP3 = dm2_INT_MP3.groupby(pd.Grouper(key='Date',freq='M'))['Quantity'].sum()\n",
        "dm2_INT_MP3 = pd.DataFrame(dm2_INT_MP3)\n",
        "df2_INT_MP3 = df2_INT_MP3.groupby(pd.Grouper(key='Date',freq='D'))['Quantity'].sum()\n",
        "df2_INT_MP3 = pd.DataFrame(df2_INT_MP3)\n",
        "\n",
        "dm2_INT_MP4 = df2_INT_MP4.copy()\n",
        "dm2_INT_MP4 = dm2_INT_MP4.groupby(pd.Grouper(key='Date',freq='M'))['Quantity'].sum()\n",
        "dm2_INT_MP4 = pd.DataFrame(dm2_INT_MP4)\n",
        "df2_INT_MP4 = df2_INT_MP4.groupby(pd.Grouper(key='Date',freq='D'))['Quantity'].sum()\n",
        "df2_INT_MP4 = pd.DataFrame(df2_INT_MP4)\n",
        "\n",
        "dm2_INT_MP5 = df2_INT_MP5.copy()\n",
        "dm2_INT_MP5 = dm2_INT_MP5.groupby(pd.Grouper(key='Date',freq='M'))['Quantity'].sum()\n",
        "dm2_INT_MP5 = pd.DataFrame(dm2_INT_MP5)\n",
        "df2_INT_MP5 = df2_INT_MP5.groupby(pd.Grouper(key='Date',freq='D'))['Quantity'].sum()\n",
        "df2_INT_MP5 = pd.DataFrame(df2_INT_MP5)\n",
        "\n",
        "# Criando DataFrames para Sinop\n",
        "df2_SNO = df2[(df2['pUnit'] == 'SNO')]\n",
        "df2_SNO_MP1 = df2_SNO[(df2_SNO['ProductGenDesc'] == MP1)]\n",
        "df2_SNO_MP2 = df2_SNO[(df2_SNO['ProductGenDesc'] == MP2)]\n",
        "df2_SNO_MP3 = df2_SNO[(df2_SNO['ProductGenDesc'] == MP3)]\n",
        "df2_SNO_MP4 = df2_SNO[(df2_SNO['ProductGenDesc'] == MP4)]\n",
        "df2_SNO_MP5 = df2_SNO[(df2_SNO['ProductGenDesc'] == MP5)]\n",
        "\n",
        "dm2_SNO_MP1 = df2_SNO_MP1.copy()\n",
        "dm2_SNO_MP1 = dm2_SNO_MP1.groupby(pd.Grouper(key='Date',freq='M'))['Quantity'].sum()\n",
        "dm2_SNO_MP1 = pd.DataFrame(dm2_SNO_MP1)\n",
        "df2_SNO_MP1 = df2_SNO_MP1.groupby(pd.Grouper(key='Date',freq='D'))['Quantity'].sum()\n",
        "df2_SNO_MP1 = pd.DataFrame(df2_SNO_MP1)\n",
        "\n",
        "dm2_SNO_MP2 = df2_SNO_MP2.copy()\n",
        "dm2_SNO_MP2 = dm2_SNO_MP2.groupby(pd.Grouper(key='Date',freq='M'))['Quantity'].sum()\n",
        "dm2_SNO_MP2 = pd.DataFrame(dm2_SNO_MP2)\n",
        "df2_SNO_MP2 = df2_SNO_MP2.groupby(pd.Grouper(key='Date',freq='D'))['Quantity'].sum()\n",
        "df2_SNO_MP2 = pd.DataFrame(df2_SNO_MP2)\n",
        "\n",
        "dm2_SNO_MP3 = df2_SNO_MP3.copy()\n",
        "dm2_SNO_MP3 = dm2_SNO_MP3.groupby(pd.Grouper(key='Date',freq='M'))['Quantity'].sum()\n",
        "dm2_SNO_MP3 = pd.DataFrame(dm2_SNO_MP3)\n",
        "df2_SNO_MP3 = df2_SNO_MP3.groupby(pd.Grouper(key='Date',freq='D'))['Quantity'].sum()\n",
        "df2_SNO_MP3 = pd.DataFrame(df2_SNO_MP3)\n",
        "\n",
        "dm2_SNO_MP4 = df2_SNO_MP4.copy()\n",
        "dm2_SNO_MP4 = dm2_SNO_MP4.groupby(pd.Grouper(key='Date',freq='M'))['Quantity'].sum()\n",
        "dm2_SNO_MP4 = pd.DataFrame(dm2_SNO_MP4)\n",
        "df2_SNO_MP4 = df2_SNO_MP4.groupby(pd.Grouper(key='Date',freq='D'))['Quantity'].sum()\n",
        "df2_SNO_MP4 = pd.DataFrame(df2_SNO_MP4)\n",
        "\n",
        "dm2_SNO_MP5 = df2_SNO_MP5.copy()\n",
        "dm2_SNO_MP5 = dm2_SNO_MP5.groupby(pd.Grouper(key='Date',freq='M'))['Quantity'].sum()\n",
        "dm2_SNO_MP5 = pd.DataFrame(dm2_SNO_MP5)\n",
        "df2_SNO_MP5 = df2_SNO_MP5.groupby(pd.Grouper(key='Date',freq='D'))['Quantity'].sum()\n",
        "df2_SNO_MP5 = pd.DataFrame(df2_SNO_MP5)\n",
        "\n",
        "# Criando DataFrames para Rondonópolis\n",
        "df2_RNO = df2[(df2['pUnit'] == 'RNO')]\n",
        "df2_RNO_MP1 = df2_RNO[(df2_RNO['ProductGenDesc'] == MP1)]\n",
        "df2_RNO_MP2 = df2_RNO[(df2_RNO['ProductGenDesc'] == MP2)]\n",
        "df2_RNO_MP3 = df2_RNO[(df2_RNO['ProductGenDesc'] == MP3)]\n",
        "df2_RNO_MP4 = df2_RNO[(df2_RNO['ProductGenDesc'] == MP4)]\n",
        "df2_RNO_MP5 = df2_RNO[(df2_RNO['ProductGenDesc'] == MP5)]\n",
        "\n",
        "dm2_RNO_MP1 = df2_RNO_MP1.copy()\n",
        "dm2_RNO_MP1 = dm2_RNO_MP1.groupby(pd.Grouper(key='Date',freq='M'))['Quantity'].sum()\n",
        "dm2_RNO_MP1 = pd.DataFrame(dm2_RNO_MP1)\n",
        "df2_RNO_MP1 = df2_RNO_MP1.groupby(pd.Grouper(key='Date',freq='D'))['Quantity'].sum()\n",
        "df2_RNO_MP1 = pd.DataFrame(df2_RNO_MP1)\n",
        "\n",
        "dm2_RNO_MP2 = df2_RNO_MP2.copy()\n",
        "dm2_RNO_MP2 = dm2_RNO_MP2.groupby(pd.Grouper(key='Date',freq='M'))['Quantity'].sum()\n",
        "dm2_RNO_MP2 = pd.DataFrame(dm2_RNO_MP2)\n",
        "df2_RNO_MP2 = df2_RNO_MP2.groupby(pd.Grouper(key='Date',freq='D'))['Quantity'].sum()\n",
        "df2_RNO_MP2 = pd.DataFrame(df2_RNO_MP2)\n",
        "\n",
        "dm2_RNO_MP3 = df2_RNO_MP3.copy()\n",
        "dm2_RNO_MP3 = dm2_RNO_MP3.groupby(pd.Grouper(key='Date',freq='M'))['Quantity'].sum()\n",
        "dm2_RNO_MP3 = pd.DataFrame(dm2_RNO_MP3)\n",
        "df2_RNO_MP3 = df2_RNO_MP3.groupby(pd.Grouper(key='Date',freq='D'))['Quantity'].sum()\n",
        "df2_RNO_MP3 = pd.DataFrame(df2_RNO_MP3)\n",
        "\n",
        "dm2_RNO_MP4 = df2_RNO_MP4.copy()\n",
        "dm2_RNO_MP4 = dm2_RNO_MP4.groupby(pd.Grouper(key='Date',freq='M'))['Quantity'].sum()\n",
        "dm2_RNO_MP4 = pd.DataFrame(dm2_RNO_MP4)\n",
        "df2_RNO_MP4 = df2_RNO_MP4.groupby(pd.Grouper(key='Date',freq='D'))['Quantity'].sum()\n",
        "df2_RNO_MP4 = pd.DataFrame(df2_RNO_MP4)\n",
        "\n",
        "dm2_RNO_MP5 = df2_RNO_MP5.copy()\n",
        "dm2_RNO_MP5 = dm2_RNO_MP5.groupby(pd.Grouper(key='Date',freq='M'))['Quantity'].sum()\n",
        "dm2_RNO_MP5 = pd.DataFrame(dm2_RNO_MP5)\n",
        "df2_RNO_MP5 = df2_RNO_MP5.groupby(pd.Grouper(key='Date',freq='D'))['Quantity'].sum()\n",
        "df2_RNO_MP5 = pd.DataFrame(df2_RNO_MP5)\n",
        "\n",
        "# Criando DataFrames para Catalão\n",
        "df2_CTO = df2[(df2['pUnit'] == 'CTO')]\n",
        "df2_CTO_MP1 = df2_CTO[(df2_CTO['ProductGenDesc'] == MP1)]\n",
        "df2_CTO_MP2 = df2_CTO[(df2_CTO['ProductGenDesc'] == MP2)]\n",
        "df2_CTO_MP3 = df2_CTO[(df2_CTO['ProductGenDesc'] == MP3)]\n",
        "df2_CTO_MP4 = df2_CTO[(df2_CTO['ProductGenDesc'] == MP4)]\n",
        "df2_CTO_MP5 = df2_CTO[(df2_CTO['ProductGenDesc'] == MP5)]\n",
        "\n",
        "dm2_CTO_MP1 = df2_CTO_MP1.copy()\n",
        "dm2_CTO_MP1 = dm2_CTO_MP1.groupby(pd.Grouper(key='Date',freq='M'))['Quantity'].sum()\n",
        "dm2_CTO_MP1 = pd.DataFrame(dm2_CTO_MP1)\n",
        "df2_CTO_MP1 = df2_CTO_MP1.groupby(pd.Grouper(key='Date',freq='D'))['Quantity'].sum()\n",
        "df2_CTO_MP1 = pd.DataFrame(df2_CTO_MP1)\n",
        "\n",
        "dm2_CTO_MP2 = df2_CTO_MP2.copy()\n",
        "dm2_CTO_MP2 = dm2_CTO_MP2.groupby(pd.Grouper(key='Date',freq='M'))['Quantity'].sum()\n",
        "dm2_CTO_MP2 = pd.DataFrame(dm2_CTO_MP2)\n",
        "df2_CTO_MP2 = df2_CTO_MP2.groupby(pd.Grouper(key='Date',freq='D'))['Quantity'].sum()\n",
        "df2_CTO_MP2 = pd.DataFrame(df2_CTO_MP2)\n",
        "\n",
        "dm2_CTO_MP3 = df2_CTO_MP3.copy()\n",
        "dm2_CTO_MP3 = dm2_CTO_MP3.groupby(pd.Grouper(key='Date',freq='M'))['Quantity'].sum()\n",
        "dm2_CTO_MP3 = pd.DataFrame(dm2_CTO_MP3)\n",
        "df2_CTO_MP3 = df2_CTO_MP3.groupby(pd.Grouper(key='Date',freq='D'))['Quantity'].sum()\n",
        "df2_CTO_MP3 = pd.DataFrame(df2_CTO_MP3)\n",
        "\n",
        "dm2_CTO_MP4 = df2_CTO_MP4.copy()\n",
        "dm2_CTO_MP4 = dm2_CTO_MP4.groupby(pd.Grouper(key='Date',freq='M'))['Quantity'].sum()\n",
        "dm2_CTO_MP4 = pd.DataFrame(dm2_CTO_MP4)\n",
        "df2_CTO_MP4 = df2_CTO_MP4.groupby(pd.Grouper(key='Date',freq='D'))['Quantity'].sum()\n",
        "df2_CTO_MP4 = pd.DataFrame(df2_CTO_MP4)\n",
        "\n",
        "dm2_CTO_MP5 = df2_CTO_MP5.copy()\n",
        "dm2_CTO_MP5 = dm2_CTO_MP5.groupby(pd.Grouper(key='Date',freq='M'))['Quantity'].sum()\n",
        "dm2_CTO_MP5 = pd.DataFrame(dm2_CTO_MP5)\n",
        "df2_CTO_MP5 = df2_CTO_MP5.groupby(pd.Grouper(key='Date',freq='D'))['Quantity'].sum()\n",
        "df2_CTO_MP5 = pd.DataFrame(df2_CTO_MP5)\n",
        "\n",
        "# Criando DataFrames para Paranaguá\n",
        "df2_PGU = df2[(df2['pUnit'] == 'PGU')]\n",
        "df2_PGU_MP1 = df2_PGU[(df2_PGU['ProductGenDesc'] == MP1)]\n",
        "df2_PGU_MP2 = df2_PGU[(df2_PGU['ProductGenDesc'] == MP2)]\n",
        "df2_PGU_MP3 = df2_PGU[(df2_PGU['ProductGenDesc'] == MP3)]\n",
        "df2_PGU_MP4 = df2_PGU[(df2_PGU['ProductGenDesc'] == MP4)]\n",
        "df2_PGU_MP5 = df2_PGU[(df2_PGU['ProductGenDesc'] == MP5)]\n",
        "\n",
        "dm2_PGU_MP1 = df2_PGU_MP1.copy()\n",
        "dm2_PGU_MP1 = dm2_PGU_MP1.groupby(pd.Grouper(key='Date',freq='M'))['Quantity'].sum()\n",
        "dm2_PGU_MP1 = pd.DataFrame(dm2_PGU_MP1)\n",
        "df2_PGU_MP1 = df2_PGU_MP1.groupby(pd.Grouper(key='Date',freq='D'))['Quantity'].sum()\n",
        "df2_PGU_MP1 = pd.DataFrame(df2_PGU_MP1)\n",
        "\n",
        "dm2_PGU_MP2 = df2_PGU_MP2.copy()\n",
        "dm2_PGU_MP2 = dm2_PGU_MP2.groupby(pd.Grouper(key='Date',freq='M'))['Quantity'].sum()\n",
        "dm2_PGU_MP2 = pd.DataFrame(dm2_PGU_MP2)\n",
        "df2_PGU_MP2 = df2_PGU_MP2.groupby(pd.Grouper(key='Date',freq='D'))['Quantity'].sum()\n",
        "df2_PGU_MP2 = pd.DataFrame(df2_PGU_MP2)\n",
        "\n",
        "dm2_PGU_MP3 = df2_PGU_MP3.copy()\n",
        "dm2_PGU_MP3 = dm2_PGU_MP3.groupby(pd.Grouper(key='Date',freq='M'))['Quantity'].sum()\n",
        "dm2_PGU_MP3 = pd.DataFrame(dm2_PGU_MP3)\n",
        "df2_PGU_MP3 = df2_PGU_MP3.groupby(pd.Grouper(key='Date',freq='D'))['Quantity'].sum()\n",
        "df2_PGU_MP3 = pd.DataFrame(df2_PGU_MP3)\n",
        "\n",
        "dm2_PGU_MP4 = df2_PGU_MP4.copy()\n",
        "dm2_PGU_MP4 = dm2_PGU_MP4.groupby(pd.Grouper(key='Date',freq='M'))['Quantity'].sum()\n",
        "dm2_PGU_MP4 = pd.DataFrame(dm2_PGU_MP4)\n",
        "df2_PGU_MP4 = df2_PGU_MP4.groupby(pd.Grouper(key='Date',freq='D'))['Quantity'].sum()\n",
        "df2_PGU_MP4 = pd.DataFrame(df2_PGU_MP4)\n",
        "\n",
        "dm2_PGU_MP5 = df2_PGU_MP5.copy()\n",
        "dm2_PGU_MP5 = dm2_PGU_MP5.groupby(pd.Grouper(key='Date',freq='M'))['Quantity'].sum()\n",
        "dm2_PGU_MP5 = pd.DataFrame(dm2_PGU_MP5)\n",
        "df2_PGU_MP5 = df2_PGU_MP5.groupby(pd.Grouper(key='Date',freq='D'))['Quantity'].sum()\n",
        "df2_PGU_MP5 = pd.DataFrame(df2_PGU_MP5)\n",
        "\n",
        "# Criando DataFrames para Araguari\n",
        "df2_ARO = df2[(df2['pUnit'] == 'ARO')]\n",
        "df2_ARO_MP1 = df2_ARO[(df2_ARO['ProductGenDesc'] == MP1)]\n",
        "df2_ARO_MP2 = df2_ARO[(df2_ARO['ProductGenDesc'] == MP2)]\n",
        "df2_ARO_MP3 = df2_ARO[(df2_ARO['ProductGenDesc'] == MP3)]\n",
        "df2_ARO_MP4 = df2_ARO[(df2_ARO['ProductGenDesc'] == MP4)]\n",
        "df2_ARO_MP5 = df2_ARO[(df2_ARO['ProductGenDesc'] == MP5)]\n",
        "\n",
        "dm2_ARO_MP1 = df2_ARO_MP1.copy()\n",
        "dm2_ARO_MP1 = dm2_ARO_MP1.groupby(pd.Grouper(key='Date',freq='M'))['Quantity'].sum()\n",
        "dm2_ARO_MP1 = pd.DataFrame(dm2_ARO_MP1)\n",
        "df2_ARO_MP1 = df2_ARO_MP1.groupby(pd.Grouper(key='Date',freq='D'))['Quantity'].sum()\n",
        "df2_ARO_MP1 = pd.DataFrame(df2_ARO_MP1)\n",
        "\n",
        "dm2_ARO_MP2 = df2_ARO_MP2.copy()\n",
        "dm2_ARO_MP2 = dm2_ARO_MP2.groupby(pd.Grouper(key='Date',freq='M'))['Quantity'].sum()\n",
        "dm2_ARO_MP2 = pd.DataFrame(dm2_ARO_MP2)\n",
        "df2_ARO_MP2 = df2_ARO_MP2.groupby(pd.Grouper(key='Date',freq='D'))['Quantity'].sum()\n",
        "df2_ARO_MP2 = pd.DataFrame(df2_ARO_MP2)\n",
        "\n",
        "dm2_ARO_MP3 = df2_ARO_MP3.copy()\n",
        "dm2_ARO_MP3 = dm2_ARO_MP3.groupby(pd.Grouper(key='Date',freq='M'))['Quantity'].sum()\n",
        "dm2_ARO_MP3 = pd.DataFrame(dm2_ARO_MP3)\n",
        "df2_ARO_MP3 = df2_ARO_MP3.groupby(pd.Grouper(key='Date',freq='D'))['Quantity'].sum()\n",
        "df2_ARO_MP3 = pd.DataFrame(df2_ARO_MP3)\n",
        "\n",
        "dm2_ARO_MP4 = df2_ARO_MP4.copy()\n",
        "dm2_ARO_MP4 = dm2_ARO_MP4.groupby(pd.Grouper(key='Date',freq='M'))['Quantity'].sum()\n",
        "dm2_ARO_MP4 = pd.DataFrame(dm2_ARO_MP4)\n",
        "df2_ARO_MP4 = df2_ARO_MP4.groupby(pd.Grouper(key='Date',freq='D'))['Quantity'].sum()\n",
        "df2_ARO_MP4 = pd.DataFrame(df2_ARO_MP4)\n",
        "\n",
        "dm2_ARO_MP5 = df2_ARO_MP5.copy()\n",
        "dm2_ARO_MP5 = dm2_ARO_MP5.groupby(pd.Grouper(key='Date',freq='M'))['Quantity'].sum()\n",
        "dm2_ARO_MP5 = pd.DataFrame(dm2_ARO_MP5)\n",
        "df2_ARO_MP5 = df2_ARO_MP5.groupby(pd.Grouper(key='Date',freq='D'))['Quantity'].sum()\n",
        "df2_ARO_MP5 = pd.DataFrame(df2_ARO_MP5)"
      ]
    },
    {
      "cell_type": "markdown",
      "metadata": {
        "id": "Si4THVPH0Ers"
      },
      "source": [
        "# _**Análise Exploratória e Execução de Testes**_\n",
        "\n",
        "_Estudo para Fábrica de São Luís_"
      ]
    },
    {
      "cell_type": "markdown",
      "metadata": {
        "id": "SSH7yAt32wfR"
      },
      "source": [
        "### **Separação da Base de Dados**"
      ]
    },
    {
      "cell_type": "code",
      "execution_count": null,
      "metadata": {
        "id": "e7ZcrxdV1toJ"
      },
      "outputs": [],
      "source": [
        "# Separação de base de testes e base de treino para os dataframes\n",
        "\n",
        "# Deliveries\n",
        "# Meses\n",
        "treino_d1SLO = df1_SLO[:-20]\n",
        "teste_d1SLO = df1_SLO[-20:-13]\n",
        "# Dias\n",
        "treino_m1SLO = dm1_SLO[:-5]\n",
        "teste_m1SLO = dm1_SLO[-5:]\n",
        "\n",
        "# Production\n",
        "# 1) Cloreto de Potássio\n",
        "# Meses\n",
        "treino_m2SLO_MP1 = dm2_SLO_MP1[:-4]\n",
        "teste_m2SLO_MP1 = dm2_SLO_MP1[-4:]\n",
        "# Dias\n",
        "treino_d2SLO_MP1 = df2_SLO_MP1[:-25]\n",
        "teste_d2SLO_MP1 = df2_SLO_MP1[-25:-18]\n",
        "\n",
        "# 2) Ureia\n",
        "# Meses\n",
        "treino_m2SLO_MP2 = dm2_SLO_MP2[:-4]\n",
        "teste_m2SLO_MP2 = dm2_SLO_MP2[-4:]\n",
        "# Dias\n",
        "treino_d2SLO_MP2 = df2_SLO_MP2[:-25]\n",
        "teste_d2SLO_MP2 = df2_SLO_MP2[-25:-18]\n",
        "\n",
        "# 3) MAP\n",
        "# Meses\n",
        "treino_m2SLO_MP3 = dm2_SLO_MP3[:-4]\n",
        "teste_m2SLO_MP3 = dm2_SLO_MP3[-4:]\n",
        "# Dias\n",
        "treino_d2SLO_MP3 = df2_SLO_MP3[:-25]\n",
        "teste_d2SLO_MP3 = df2_SLO_MP3[-25:-18]\n",
        "\n",
        "# 4) TSP\n",
        "# Meses\n",
        "treino_m2SLO_MP4 = dm2_SLO_MP4[:-4]\n",
        "teste_m2SLO_MP4 = dm2_SLO_MP4[-4:]\n",
        "# Dias\n",
        "treino_d2SLO_MP4 = df2_SLO_MP4[:-25]\n",
        "teste_d2SLO_MP4 = df2_SLO_MP4[-25:-18]\n",
        "\n",
        "# 5) SSP\n",
        "# Meses\n",
        "treino_m2SLO_MP5 = dm2_SLO_MP5[:-4]\n",
        "teste_m2SLO_MP5 = dm2_SLO_MP5[-4:]\n",
        "# Dias\n",
        "treino_d2SLO_MP5 = df2_SLO_MP5[:-25]\n",
        "teste_d2SLO_MP5 = df2_SLO_MP5[-25:-18]"
      ]
    },
    {
      "cell_type": "markdown",
      "metadata": {
        "id": "Q0FKao3eNmbw"
      },
      "source": [
        "### **Entregas Diárias Globais**"
      ]
    },
    {
      "cell_type": "markdown",
      "metadata": {
        "id": "MScuXqN-2x7g"
      },
      "source": [
        "#### Visualização de Entregas"
      ]
    },
    {
      "cell_type": "code",
      "execution_count": null,
      "metadata": {
        "colab": {
          "background_save": true
        },
        "id": "Yh1uAl-qNuc7",
        "outputId": "f6e4f631-cc15-435f-8ccd-9a30d7fe3fee"
      },
      "outputs": [
        {
          "data": {
            "image/png": "[encoded data removed]",
            "text/plain": [
              "<Figure size 1080x576 with 1 Axes>"
            ]
          },
          "metadata": {},
          "output_type": "display_data"
        }
      ],
      "source": [
        "Dtot = sns.lineplot(x=df1.index[:], y = df1['Deliveries'][:], color = 'blue', dashes=df1['Deliveries'])\n",
        "Dtot.set_title('Eurochem - Entregas Diárias (toneladas)', fontsize = 15)\n",
        "Dtot.set_ylabel('Entregas (ton)', fontsize = 13)\n",
        "Dtot.set_xlabel('Dias', fontsize = 13)\n",
        "plt.show()"
      ]
    },
    {
      "cell_type": "code",
      "execution_count": null,
      "metadata": {
        "id": "SMBwbql8587Q"
      },
      "outputs": [],
      "source": [
        "#1\n",
        "dSLO = sns.lineplot(x=df1_SLO.index[:], y = df1_SLO['Deliveries'][:], color = 'blue', dashes=df1_SLO['Deliveries'])\n",
        "dSLO.set_title('São Luís - Entregas Diárias (toneladas)', fontsize = 15)\n",
        "dSLO.set_ylabel('Entregas (ton)', fontsize = 13)\n",
        "dSLO.set_xlabel('Dias', fontsize = 13)\n",
        "plt.show()"
      ]
    },
    {
      "cell_type": "code",
      "execution_count": null,
      "metadata": {
        "id": "E-WhDseeW1O0"
      },
      "outputs": [],
      "source": [
        "#2\n",
        "dSLO = sns.lineplot(x=df1_SLO.index[-365:], y = df1_SLO['Deliveries'][-365:], color = 'blue', dashes=df1_SLO['Deliveries'])\n",
        "dSLO.set_title('São Luís - Entregas Diárias em 2021 (toneladas)', fontsize = 15)\n",
        "dSLO.set_ylabel('Entregas (ton)', fontsize = 13)\n",
        "dSLO.set_xlabel('Dias', fontsize = 13)\n",
        "plt.show()"
      ]
    },
    {
      "cell_type": "markdown",
      "metadata": {
        "id": "zRTEfe_d0PAg"
      },
      "source": [
        "#### sARIMA"
      ]
    },
    {
      "cell_type": "code",
      "execution_count": null,
      "metadata": {
        "id": "twOS5TkI5dKR"
      },
      "outputs": [],
      "source": [
        "# Seasonal Decompose das Entregas Diárias\n",
        "result_deliveriesd_SLO = seasonal_decompose(treino_d1SLO['Deliveries'][-365:], model='additive', freq=7)\n",
        "result_deliveriesd_SLO.plot()\n",
        "pyplot.show()"
      ]
    },
    {
      "cell_type": "code",
      "execution_count": null,
      "metadata": {
        "id": "jgFVx9Qe54L_"
      },
      "outputs": [],
      "source": [
        "result_m = adfuller(df1_SLO['Deliveries'], autolag='AIC')\n",
        "print(f'Estatítica de Dickey-Fuller: {result_m[0]} \\n')\n",
        "print(f'p-Valor: {result_m[1]}')\n",
        "for key, value in result_m[4].items():\n",
        "  print('\\t%s: %.3f' % (key,value))"
      ]
    },
    {
      "cell_type": "code",
      "execution_count": null,
      "metadata": {
        "id": "bJVOelyeDPnE"
      },
      "outputs": [],
      "source": [
        "lags = 120\n",
        "title1 = 'Autocorrelação: Entregas Diárias em São Luís'\n",
        "plot_acf(df1_SLO['Deliveries'],title=title1,lags=lags);"
      ]
    },
    {
      "cell_type": "code",
      "execution_count": null,
      "metadata": {
        "id": "7IDa47cGh4rz"
      },
      "outputs": [],
      "source": [
        "title2 = 'Autocorrelação Parcial: Entregas Diárias em São Luís'\n",
        "plot_pacf(df1_SLO['Deliveries'],title=title2,lags=lags);"
      ]
    },
    {
      "cell_type": "code",
      "execution_count": null,
      "metadata": {
        "id": "9TWLmou3e58H"
      },
      "outputs": [],
      "source": [
        "auto_arima(treino_d1SLO['Deliveries'],seasonal=True,m=7)\n",
        "stepwise_fit = auto_arima(treino_d1SLO['Deliveries'], start_p=0, start_q=0, max_p=6, max_q=3, m=7,\n",
        "                          seasonal=True,\n",
        "                          trace=True,\n",
        "                          error_action='ignore',\n",
        "                          suppress_warnings=True,\n",
        "                          stepwise=True)"
      ]
    },
    {
      "cell_type": "code",
      "execution_count": null,
      "metadata": {
        "id": "hWFGYyI8h4X0"
      },
      "outputs": [],
      "source": [
        "sARIMA_d1SLO = SARIMAX(treino_d1SLO['Deliveries'],order=(6,1,0),seasonal_order=(1,0,2,7))\n",
        "resultado_d1SLO = sARIMA_d1SLO.fit()"
      ]
    },
    {
      "cell_type": "code",
      "execution_count": null,
      "metadata": {
        "id": "qg6tswGQiMPY"
      },
      "outputs": [],
      "source": [
        "inicio = len(treino_d1SLO)\n",
        "fim = len(treino_d1SLO)+len(teste_d1SLO)-1\n",
        "predito_sARIMA_d1SLO = resultado_d1SLO.predict(start=inicio, end=fim, dynamic=False, typ='levels').rename('Previsão sARIMA(5,1,1)(2,0,1,7')\n",
        "predito_sARIMA_d1SLO.index = teste_d1SLO.index\n",
        "treino_d1SLO['Deliveries'][-400:].plot(legend=True,label='Treino')\n",
        "teste_d1SLO['Deliveries'].plot(legend=True,label='Teste')\n",
        "predito_sARIMA_d1SLO.plot(legend=True,label='Predito')\n",
        "plt.title('São Luís - Modelo de Previsão de Entregas Diárias (ton)')\n",
        "plt.show()"
      ]
    },
    {
      "cell_type": "code",
      "execution_count": null,
      "metadata": {
        "id": "JhmrGsmckmea"
      },
      "outputs": [],
      "source": [
        "MAPE_sARIMA_d1SLO = round(100*mean_absolute_percentage_error(teste_d1SLO['Deliveries'],predito_sARIMA_d1SLO),2)\n",
        "print(f'Mean Absolute Percentage Error: MAPE = {MAPE_sARIMA_d1SLO}%')"
      ]
    },
    {
      "cell_type": "markdown",
      "metadata": {
        "id": "aHxDieg50Uj_"
      },
      "source": [
        "#### Holt-Winters"
      ]
    },
    {
      "cell_type": "code",
      "execution_count": null,
      "metadata": {
        "id": "29h6d5m6LjBD"
      },
      "outputs": [],
      "source": [
        "modelo_d1SLO_HW = ExponentialSmoothing(treino_d1SLO['Deliveries'],trend='add',seasonal='add',seasonal_periods=7).fit();\n",
        "treino_d1SLO['HoltWinters'] = modelo_d1SLO_HW.fittedvalues\n",
        "treino_d1SLO['Deliveries'].plot(legend=True,label='Entregas')\n",
        "treino_d1SLO['HoltWinters'].plot(legend=True,label='HW')\n",
        "plt.show()"
      ]
    },
    {
      "cell_type": "code",
      "execution_count": null,
      "metadata": {
        "id": "arFeGZgCM3mn"
      },
      "outputs": [],
      "source": [
        "predito_HW_d1SLO = modelo_d1SLO_HW.forecast(7).rename('Previsão SLO HW')"
      ]
    },
    {
      "cell_type": "code",
      "execution_count": null,
      "metadata": {
        "id": "5CwnckOiNFM8"
      },
      "outputs": [],
      "source": [
        "treino_d1SLO['Deliveries'][-360:].plot(legend=True,label='Entregas (BASE TREINO)')\n",
        "teste_d1SLO['Deliveries'].plot(legend=True,label='Entregas (BASE TESTE)')\n",
        "predito_HW_d1SLO.plot(legend=True,label='Previsão Holt-Winters')\n",
        "plt.title('Previsão de Holt-Winters para Entregas de São Luís')\n",
        "plt.show()"
      ]
    },
    {
      "cell_type": "code",
      "execution_count": null,
      "metadata": {
        "id": "g574DVWWNQkY"
      },
      "outputs": [],
      "source": [
        "MAPE_HW_d1SLO = round(100*mean_absolute_percentage_error(teste_d1SLO['Deliveries'],predito_HW_d1SLO),2)\n",
        "print(f'Mean Absolute Percentage Error: MAPE = {MAPE_HW_d1SLO}%')"
      ]
    },
    {
      "cell_type": "markdown",
      "metadata": {
        "id": "UffXGBKO025I"
      },
      "source": [
        "#### Método Theta\n"
      ]
    },
    {
      "cell_type": "code",
      "execution_count": null,
      "metadata": {
        "id": "rKE_F2Jm2czu"
      },
      "outputs": [],
      "source": [
        "modelo_d1SLO_TM = ThetaModel(treino_d1SLO['Deliveries']).fit()\n",
        "print(modelo_d1SLO_TM.summary())"
      ]
    },
    {
      "cell_type": "code",
      "execution_count": null,
      "metadata": {
        "id": "J4rN0Ohe3YVb"
      },
      "outputs": [],
      "source": [
        "modelo_d1SLO_TM = ThetaModel(treino_d1SLO['Deliveries'], deseasonalize=True, period=7).fit()\n",
        "predito_d1SLO_TM = modelo_d1SLO_TM.forecast(7)"
      ]
    },
    {
      "cell_type": "code",
      "execution_count": null,
      "metadata": {
        "id": "DHDGnks93-Tr"
      },
      "outputs": [],
      "source": [
        "plt.plot(predito_d1SLO_TM, color='red', label='Previsão Modelo Theta')\n",
        "plt.plot(treino_d1SLO['Deliveries'][-360:], color='blue', label='Treino')\n",
        "plt.plot(teste_d1SLO['Deliveries'], color='green', label='Teste')\n",
        "plt.title('Previsão através do Modelo Theta')\n",
        "plt.legend()\n",
        "plt.show()"
      ]
    },
    {
      "cell_type": "code",
      "execution_count": null,
      "metadata": {
        "id": "XwbY6xdp5O84"
      },
      "outputs": [],
      "source": [
        "MAPE_TM_d1SLO = round(100*mean_absolute_percentage_error(teste_d1SLO['Deliveries'],predito_d1SLO_TM),2)\n",
        "print(f'Mean Absolute Percentage Error: MAPE = {MAPE_TM_d1SLO}%')"
      ]
    },
    {
      "cell_type": "markdown",
      "metadata": {
        "id": "xUjrUTvuOH2j"
      },
      "source": [
        "### **Entregas Mensais**"
      ]
    },
    {
      "cell_type": "code",
      "execution_count": null,
      "metadata": {
        "id": "hKUOhzxoOKo5"
      },
      "outputs": [],
      "source": [
        "#8\n",
        "mSLO = sns.lineplot(x=dm1_SLO.index[:], y = dm1_SLO['Deliveries'][:], color = 'blue', dashes=dm1_SLO['Deliveries'])\n",
        "mSLO.set_title('São Luís - Entregas Mensais (toneladas)', fontsize = 15)\n",
        "mSLO.set_ylabel('Entregas (ton)', fontsize = 13)\n",
        "mSLO.set_xlabel('Dias', fontsize = 13)\n",
        "plt.show()"
      ]
    },
    {
      "cell_type": "code",
      "execution_count": null,
      "metadata": {
        "id": "DBrQkUaaOYV0"
      },
      "outputs": [],
      "source": [
        "#9\n",
        "# Seasonal Decompose das Entregas Diárias\n",
        "result_deliveriesm_SLO = seasonal_decompose(treino_m1SLO['Deliveries'], model='additive', freq=12)\n",
        "result_deliveriesm_SLO.plot()\n",
        "pyplot.show()"
      ]
    },
    {
      "cell_type": "code",
      "execution_count": null,
      "metadata": {
        "id": "Za1FLpfz6y_5"
      },
      "outputs": [],
      "source": [
        "#10\n",
        "lags = 36\n",
        "title1 = 'Autocorrelação: Entregas Mensais em São Luís'\n",
        "plot_acf(dm1_SLO['Deliveries'],title=title1,lags=lags);"
      ]
    },
    {
      "cell_type": "code",
      "execution_count": null,
      "metadata": {
        "id": "1bfWN_OJ7H3E"
      },
      "outputs": [],
      "source": [
        "#11\n",
        "title2 = 'Autocorrelação Parcial: Entregas Mensais em São Luís'\n",
        "plot_pacf(dm1_SLO['Deliveries'],title=title2,lags=lags);"
      ]
    },
    {
      "cell_type": "code",
      "execution_count": null,
      "metadata": {
        "id": "ZNomXG1SO8NV"
      },
      "outputs": [],
      "source": [
        "result_m = adfuller(dm1_SLO['Deliveries'], autolag='AIC')\n",
        "print(f'Estatítica de Dickey-Fuller para a série original: {result_m[0]} \\n')\n",
        "print(f'p-Valor: {result_m[1]}')\n",
        "for key, value in result_m[4].items():\n",
        "  print('\\t%s: %.3f' % (key,value))"
      ]
    },
    {
      "cell_type": "code",
      "execution_count": null,
      "metadata": {
        "id": "6yr8cGvs-dHj"
      },
      "outputs": [],
      "source": [
        "result_m_diff = adfuller(np.diff(dm1_SLO['Deliveries']), autolag='AIC')\n",
        "print(f'Estatítica de Dickey-Fuller para a série original: {result_m_diff[0]} \\n')\n",
        "print(f'p-Valor: {result_m_diff[1]}')\n",
        "for key, value in result_m_diff[4].items():\n",
        "  print('\\t%s: %.3f' % (key,value))"
      ]
    },
    {
      "cell_type": "code",
      "execution_count": null,
      "metadata": {
        "id": "HGcpDp6nP3NN"
      },
      "outputs": [],
      "source": [
        "auto_arima(treino_m1SLO['Deliveries'],seasonal=True,m=12)\n",
        "stepwise_fit = auto_arima(treino_m1SLO['Deliveries'], start_p=0, start_q=0, max_p=6, max_q=3, m=12,\n",
        "                          seasonal=True,\n",
        "                          trace=True,\n",
        "                          error_action='ignore',\n",
        "                          suppress_warnings=True,\n",
        "                          stepwise=True)"
      ]
    },
    {
      "cell_type": "code",
      "execution_count": null,
      "metadata": {
        "id": "OkioMF3G-rF1"
      },
      "outputs": [],
      "source": [
        "#sARIMA_m1SLO = SARIMAX(treino_m1SLO['Deliveries'],order=(0,1,1),seasonal_order=(2,0,0,6))\n",
        "sARIMA_m1SLO = SARIMAX(treino_m1SLO['Deliveries'],order=(1,0,0),seasonal_order=(0,1,1,12))\n",
        "resultado_m1SLO = sARIMA_m1SLO.fit()"
      ]
    },
    {
      "cell_type": "code",
      "execution_count": null,
      "metadata": {
        "id": "x0jG2HY0-3gX"
      },
      "outputs": [],
      "source": [
        "#12\n",
        "inicio = len(treino_m1SLO)\n",
        "fim = len(treino_m1SLO)+len(teste_m1SLO)-1\n",
        "predito_sARIMA_m1SLO = resultado_m1SLO.predict(start=inicio, end=fim, dynamic=False, typ='levels').rename('Previsão sARIMA(5,1,1)(2,0,1,7')\n",
        "predito_sARIMA_m1SLO.index = teste_m1SLO.index\n",
        "treino_m1SLO['Deliveries'].plot(legend=True,label='Treino')\n",
        "teste_m1SLO['Deliveries'].plot(legend=True,label='Teste')\n",
        "predito_sARIMA_m1SLO.plot(legend=True,label='Predito')\n",
        "plt.title('São Luís - Modelo de Previsão de Entregas Mensais (ton)')\n",
        "plt.show()"
      ]
    },
    {
      "cell_type": "code",
      "execution_count": null,
      "metadata": {
        "id": "Z0HIzM0SRzEt"
      },
      "outputs": [],
      "source": [
        "MAPE_sARIMA_m1SLO = round(100*mean_absolute_percentage_error(teste_m1SLO['Deliveries'],predito_sARIMA_m1SLO),2)\n",
        "print(f'sARIMA: Mean Absolute Percentage Error MAPE = {MAPE_sARIMA_m1SLO}%')"
      ]
    },
    {
      "cell_type": "code",
      "execution_count": null,
      "metadata": {
        "id": "7dZoV7b2O4ON"
      },
      "outputs": [],
      "source": [
        "modelo_m1SLO_HW = ExponentialSmoothing(treino_m1SLO['Deliveries'],trend='add',seasonal='add',seasonal_periods=12).fit();\n",
        "treino_m1SLO['HoltWinters'] = modelo_m1SLO_HW.fittedvalues\n",
        "treino_m1SLO['Deliveries'].plot(legend=True,label='Entregas')\n",
        "treino_m1SLO['HoltWinters'].plot(legend=True,label='HW')\n",
        "plt.show()"
      ]
    },
    {
      "cell_type": "code",
      "execution_count": null,
      "metadata": {
        "id": "CVp6QSXlAnVH"
      },
      "outputs": [],
      "source": [
        "predito_m1SLO_HW = modelo_m1SLO_HW.forecast(5).rename('Previsão slo m HW')"
      ]
    },
    {
      "cell_type": "code",
      "execution_count": null,
      "metadata": {
        "id": "MTQqcnGaA6Ja"
      },
      "outputs": [],
      "source": [
        "treino_m1SLO['Deliveries'].plot(legend=True,label='Entregas (BASE TREINO)')\n",
        "teste_m1SLO['Deliveries'].plot(legend=True,label='Entregas (BASE TESTE)')\n",
        "predito_m1SLO_HW.plot(legend=True,label='Previsão Holt-Winters')\n",
        "plt.title('Previsão de Holt-Winters para Entregas de São Luís')\n",
        "plt.show()"
      ]
    },
    {
      "cell_type": "code",
      "execution_count": null,
      "metadata": {
        "id": "LHfQ8s6UPwf7"
      },
      "outputs": [],
      "source": [
        "MAPE_m1SLO_HW = round(100*mean_absolute_percentage_error(teste_m1SLO['Deliveries'],predito_m1SLO_HW),2)\n",
        "print(f'Holt-Winter: Mean Absolute Percentage Error MAPE = {MAPE_m1SLO_HW}%')"
      ]
    },
    {
      "cell_type": "markdown",
      "metadata": {
        "id": "z8gxokoZ8iXV"
      },
      "source": [
        "### **Entregas Mensais de Cloreto de Potássio _KCL_**"
      ]
    },
    {
      "cell_type": "code",
      "execution_count": null,
      "metadata": {
        "id": "ex8KW6I68xbw"
      },
      "outputs": [],
      "source": [
        "mSLO_MP1 = sns.lineplot(x=dm2_SLO_MP1.index[:], y = dm2_SLO_MP1['Quantity'][:], color = 'red', dashes=dm2_SLO_MP1['Quantity'])\n",
        "mSLO_MP1.set_title('São Luís - Entregas Mensais de Cloreto de Potássio (toneladas)', fontsize = 15)\n",
        "mSLO_MP1.set_ylabel('Entregas (ton)', fontsize = 13)\n",
        "mSLO_MP1.set_xlabel('Dias', fontsize = 13)\n",
        "plt.show()"
      ]
    },
    {
      "cell_type": "code",
      "execution_count": null,
      "metadata": {
        "id": "bQAIS2XK9N5Q"
      },
      "outputs": [],
      "source": [
        "# Seasonal Decompose das Entregas Mensais de Cloreto\n",
        "result_deliveriesm_SLO_MP1 = seasonal_decompose(treino_m2SLO_MP1['Quantity'], model='additive', freq=12)\n",
        "result_deliveriesm_SLO_MP1.plot()\n",
        "pyplot.show()"
      ]
    },
    {
      "cell_type": "code",
      "execution_count": null,
      "metadata": {
        "id": "svFHNGlG956d"
      },
      "outputs": [],
      "source": [
        "auto_arima(treino_m2SLO_MP1['Quantity'],seasonal=True,m=12)\n",
        "stepwise_fit = auto_arima(treino_m2SLO_MP1['Quantity'], start_p=0, start_q=0, max_p=6, max_q=3, start_d=0, max_d=3, m=12,\n",
        "                          seasonal=True,\n",
        "                          trace=True,\n",
        "                          error_action='ignore',\n",
        "                          suppress_warnings=True,\n",
        "                          stepwise=False)"
      ]
    },
    {
      "cell_type": "code",
      "execution_count": null,
      "metadata": {
        "id": "dVj5NhKAG70H"
      },
      "outputs": [],
      "source": [
        "result_m = adfuller(dm2_SLO_MP1['Quantity'], autolag='AIC')\n",
        "print(f'Estatítica de Dickey-Fuller para a série original: {result_m[0]} \\n')\n",
        "print(f'p-Valor: {result_m[1]}')\n",
        "for key, value in result_m[4].items():\n",
        "  print('\\t%s: %.3f' % (key,value))"
      ]
    },
    {
      "cell_type": "code",
      "execution_count": null,
      "metadata": {
        "id": "0u4eDawQHGzh"
      },
      "outputs": [],
      "source": [
        "result_m = adfuller(np.diff(dm2_SLO_MP1['Quantity']), autolag='AIC')\n",
        "print(f'Estatítica de Dickey-Fuller para a série original: {result_m[0]} \\n')\n",
        "print(f'p-Valor: {result_m[1]}')\n",
        "for key, value in result_m[4].items():\n",
        "  print('\\t%s: %.3f' % (key,value))"
      ]
    },
    {
      "cell_type": "code",
      "execution_count": null,
      "metadata": {
        "id": "FZ_IzHK2Wm88"
      },
      "outputs": [],
      "source": [
        "sns.set_style('whitegrid')\n",
        "lags = 36\n",
        "title1 = 'Autocorrelação: Entregas Mensais de Cloreto em São Luís'\n",
        "plot_acf(dm2_SLO_MP1['Quantity'],title=title1,lags=lags);"
      ]
    },
    {
      "cell_type": "code",
      "execution_count": null,
      "metadata": {
        "id": "rUG7FMIl-WAi"
      },
      "outputs": [],
      "source": [
        "##sARIMA_m2SLO_MP1 = SARIMAX(treino_m2SLO_MP1['Quantity'],order=(2,0,2),seasonal_order=(2,0,2,6))\n",
        "sARIMA_m2SLO_MP1 = SARIMAX(treino_m2SLO_MP1['Quantity'],order=(0,1,0),seasonal_order=(1,1,0,12))\n",
        "resultado_m2SLO_MP1 = sARIMA_m2SLO_MP1.fit()"
      ]
    },
    {
      "cell_type": "code",
      "execution_count": null,
      "metadata": {
        "id": "xs7H3TNl-mEi"
      },
      "outputs": [],
      "source": [
        "inicio = len(treino_m2SLO_MP1)\n",
        "fim = len(treino_m2SLO_MP1)+len(teste_m2SLO_MP1)-1\n",
        "predito_sARIMA_m2SLO_MP1 = resultado_m2SLO_MP1.predict(start=inicio, end=fim, dynamic=False, typ='levels').rename('Previsão sARIMA(2,0,2)(2,0,2,6')\n",
        "predito_sARIMA_m2SLO_MP1.index = teste_m2SLO_MP1.index\n",
        "treino_m2SLO_MP1['Quantity'].plot(legend=True,label='Treino')\n",
        "teste_m2SLO_MP1['Quantity'].plot(legend=True,label='Teste')\n",
        "predito_sARIMA_m2SLO_MP1.plot(legend=True,label='Predito')\n",
        "plt.title('São Luís - Modelo de Previsão de Entregas Mensais de Cloreto de Potássio (ton)')\n",
        "plt.show()"
      ]
    },
    {
      "cell_type": "code",
      "execution_count": null,
      "metadata": {
        "id": "8lA_IL_0_PQ1"
      },
      "outputs": [],
      "source": [
        "MAPE_sARIMA_m2SLO_MP1 = round(100*mean_absolute_percentage_error(teste_m2SLO_MP1['Quantity'],predito_sARIMA_m2SLO_MP1),2)\n",
        "print(f'sARIMA: Mean Absolute Percentage Error MAPE = {MAPE_sARIMA_m2SLO_MP1}%')"
      ]
    },
    {
      "cell_type": "code",
      "execution_count": null,
      "metadata": {
        "id": "-AMQ4cXy_0ZN"
      },
      "outputs": [],
      "source": [
        "modelo_m2SLO_MP1_HW = ExponentialSmoothing(treino_m2SLO_MP1['Quantity'],trend='add',seasonal='add',seasonal_periods=12).fit();\n",
        "treino_m2SLO_MP1['HoltWinters'] = modelo_m2SLO_MP1_HW.fittedvalues\n",
        "treino_m2SLO_MP1['Quantity'].plot(legend=True,label='Entregas')\n",
        "treino_m2SLO_MP1['HoltWinters'].plot(legend=True,label='HW')\n",
        "plt.show()"
      ]
    },
    {
      "cell_type": "code",
      "execution_count": null,
      "metadata": {
        "id": "hRc-WIsnCQ72"
      },
      "outputs": [],
      "source": [
        "predito_m2SLO_MP1_HW = modelo_m2SLO_MP1_HW.forecast(4).rename('Previsão slo m HW')"
      ]
    },
    {
      "cell_type": "code",
      "execution_count": null,
      "metadata": {
        "id": "pCURZMcmC5dt"
      },
      "outputs": [],
      "source": [
        "treino_m2SLO_MP1['Quantity'].plot(legend=True,label='Entregas (BASE TREINO)')\n",
        "teste_m2SLO_MP1['Quantity'].plot(legend=True,label='Entregas (BASE TESTE)')\n",
        "predito_m2SLO_MP1_HW.plot(legend=True,label='Previsão Holt-Winters')\n",
        "plt.title('Previsão de Holt-Winters para Entregas Mensais de Cloreto de Potássio em São Luís')\n",
        "plt.show()"
      ]
    },
    {
      "cell_type": "code",
      "execution_count": null,
      "metadata": {
        "id": "CjmxKSeobjYR"
      },
      "outputs": [],
      "source": [
        "MAPE_HW_m2SLO_MP1 = round(100*mean_absolute_percentage_error(teste_m2SLO_MP1['Quantity'],predito_m2SLO_MP1_HW),2)\n",
        "print(f'sARIMA: Mean Absolute Percentage Error MAPE = {MAPE_HW_m2SLO_MP1}%')"
      ]
    },
    {
      "cell_type": "code",
      "execution_count": null,
      "metadata": {
        "id": "VlGI4yUDU84A"
      },
      "outputs": [],
      "source": [
        "modelo_m2SLO_MP1_TM = ThetaModel(treino_m2SLO_MP1['Quantity']).fit()\n",
        "print(modelo_m2SLO_MP1_TM.summary())"
      ]
    },
    {
      "cell_type": "code",
      "execution_count": null,
      "metadata": {
        "id": "1HEp2XUYVm5I"
      },
      "outputs": [],
      "source": [
        "modelo_m2SLO_MP1_TM = ThetaModel(treino_m2SLO_MP1['Quantity'], deseasonalize=True, period=12).fit()\n",
        "predito_m2SLO_MP1_TM = modelo_m2SLO_MP1_TM.forecast(4)"
      ]
    },
    {
      "cell_type": "code",
      "execution_count": null,
      "metadata": {
        "id": "nW05ytwSWHSV"
      },
      "outputs": [],
      "source": [
        "MAPE_m2SLO_MP1_TM = round(100*mean_absolute_percentage_error(teste_m2SLO_MP1['Quantity'],predito_m2SLO_MP1_TM),2)\n",
        "print(f'sARIMA: Mean Absolute Percentage Error MAPE = {MAPE_m2SLO_MP1_TM}%')"
      ]
    },
    {
      "cell_type": "code",
      "execution_count": null,
      "metadata": {
        "id": "DW1DxeLwUd_N"
      },
      "outputs": [],
      "source": [
        "nicio = len(treino_m2SLO_MP1)\n",
        "fim = len(treino_m2SLO_MP1)+len(teste_m2SLO_MP1)-1\n",
        "predito_sARIMA_m2SLO_MP1 = resultado_m2SLO_MP1.predict(start=inicio, end=fim, dynamic=False, typ='levels').rename('Previsão sARIMA(2,0,2)(2,0,2,6')\n",
        "predito_sARIMA_m2SLO_MP1.index = teste_m2SLO_MP1.index\n",
        "treino_m2SLO_MP1['Quantity'].plot(legend=True,label='Treino')\n",
        "teste_m2SLO_MP1['Quantity'].plot(legend=True,label='Teste')\n",
        "predito_sARIMA_m2SLO_MP1.plot(legend=True,label='sARIMA',linestyle=':')\n",
        "predito_m2SLO_MP1_HW.plot(legend=True,label='HW',linestyle=':')\n",
        "predito_m2SLO_MP1_TM.plot(legend=True,label='TM',linestyle=':')\n",
        "plt.title('São Luís - Modelo de Previsão de Entregas Mensais de Cloreto de Potássio (ton)')\n",
        "plt.show()"
      ]
    },
    {
      "cell_type": "markdown",
      "metadata": {
        "id": "bJvEnv5DJlGM"
      },
      "source": [
        "### **Entregas Mensais de Ureia**"
      ]
    },
    {
      "cell_type": "code",
      "execution_count": null,
      "metadata": {
        "id": "5-f0H2XBJpg8"
      },
      "outputs": [],
      "source": [
        "sns.set_style('white')\n",
        "mSLO_MP2 = sns.lineplot(x=dm2_SLO_MP2.index[:], y = dm2_SLO_MP2['Quantity'][:], color = 'red', label='Ureia')\n",
        "mSLO_MP1 = sns.lineplot(x=dm2_SLO_MP1.index[:], y = dm2_SLO_MP1['Quantity'][:], color = 'green', linestyle='--',label='Cloreto')\n",
        "mSLO_MP2.set_title('São Luís - Entregas Mensais de Ureia e Comparação com Entregas de Cloreto (toneladas)', fontsize = 15)\n",
        "mSLO_MP2.set_ylabel('Entregas (ton)', fontsize = 13)\n",
        "mSLO_MP2.set_xlabel('Dias', fontsize = 13)\n",
        "plt.show()"
      ]
    },
    {
      "cell_type": "code",
      "execution_count": null,
      "metadata": {
        "id": "5SuNrpJnm7m0"
      },
      "outputs": [],
      "source": [
        "# Seasonal Decompose das Entregas Mensais de Ureia\n",
        "result_deliveriesm_SLO_MP2 = seasonal_decompose(treino_m2SLO_MP2['Quantity'], model='additive', freq=12)\n",
        "result_deliveriesm_SLO_MP2.plot()\n",
        "pyplot.show()"
      ]
    },
    {
      "cell_type": "code",
      "execution_count": null,
      "metadata": {
        "id": "Ehh4tks7J7jJ"
      },
      "outputs": [],
      "source": [
        "auto_arima(treino_m2SLO_MP2['Quantity'],seasonal=True,m=12)\n",
        "stepwise_fit = auto_arima(treino_m2SLO_MP2['Quantity'], start_p=0, start_q=0, start_d = 0, max_p=10, max_q=10, max_d=6, m=12,\n",
        "                          seasonal=True,\n",
        "                          trace=True,\n",
        "                          error_action='ignore',\n",
        "                          suppress_warnings=True,\n",
        "                          stepwise=True)"
      ]
    },
    {
      "cell_type": "code",
      "execution_count": null,
      "metadata": {
        "id": "yyq_OOOEi01O"
      },
      "outputs": [],
      "source": [
        "result_m = adfuller(dm2_SLO_MP2['Quantity'], autolag='AIC')\n",
        "print(f'Estatítica de Dickey-Fuller para a série original: {result_m[0]} \\n')\n",
        "print(f'p-Valor: {result_m[1]}')\n",
        "for key, value in result_m[4].items():\n",
        "  print('\\t%s: %.3f' % (key,value))"
      ]
    },
    {
      "cell_type": "code",
      "execution_count": null,
      "metadata": {
        "id": "o8Qtf8vFX9hv"
      },
      "outputs": [],
      "source": [
        "sns.set_style('whitegrid')\n",
        "lags = 36\n",
        "title1 = 'Autocorrelação: Entregas Mensais de Ureia em São Luís'\n",
        "plot_acf(dm2_SLO_MP2['Quantity'],title=title1,lags=lags);"
      ]
    },
    {
      "cell_type": "code",
      "execution_count": null,
      "metadata": {
        "id": "8Dtw1hkRKyQJ"
      },
      "outputs": [],
      "source": [
        "sARIMA_m2SLO_MP2 = SARIMAX(treino_m2SLO_MP2['Quantity'],order=(1,0,0),seasonal_odrer=(2,0,1,12))\n",
        "resultado_m2SLO_MP2 = sARIMA_m2SLO_MP2.fit()"
      ]
    },
    {
      "cell_type": "code",
      "execution_count": null,
      "metadata": {
        "id": "fb0IqTb4K_VU"
      },
      "outputs": [],
      "source": [
        "inicio = len(treino_m2SLO_MP2)\n",
        "fim = len(treino_m2SLO_MP2)+len(teste_m2SLO_MP2)-1\n",
        "predito_sARIMA_m2SLO_MP2 = resultado_m2SLO_MP2.predict(start=inicio, end=fim, dynamic=False, typ='levels').rename('Previsão sARIMA(0,0,1)(2,0,1,6')\n",
        "predito_sARIMA_m2SLO_MP2.index = teste_m2SLO_MP2.index\n",
        "treino_m2SLO_MP2['Quantity'].plot(legend=True,label='Treino')\n",
        "teste_m2SLO_MP2['Quantity'].plot(legend=True,label='Teste')\n",
        "predito_sARIMA_m2SLO_MP2.plot(legend=True,label='Predito')\n",
        "plt.title('São Luís - Modelo de Previsão de Entregas Mensais de Ureia (ton)')\n",
        "plt.show()"
      ]
    },
    {
      "cell_type": "code",
      "execution_count": null,
      "metadata": {
        "id": "IhAEtgIiLQfH"
      },
      "outputs": [],
      "source": [
        "MAPE_sARIMA_m2SLO_MP2 = round(100*mean_absolute_percentage_error(teste_m2SLO_MP2['Quantity'],predito_sARIMA_m2SLO_MP2),2)\n",
        "print(f'sARIMA: Mean Absolute Percentage Error MAPE = {MAPE_sARIMA_m2SLO_MP2}%')"
      ]
    },
    {
      "cell_type": "code",
      "execution_count": null,
      "metadata": {
        "id": "xcVtxmr2ljEJ"
      },
      "outputs": [],
      "source": [
        "modelo_m2SLO_MP2_TM = ThetaModel(treino_m2SLO_MP2['Quantity']).fit()\n",
        "print(modelo_m2SLO_MP2_TM.summary())"
      ]
    },
    {
      "cell_type": "code",
      "execution_count": null,
      "metadata": {
        "id": "7YDkwQtKlr-y"
      },
      "outputs": [],
      "source": [
        "modelo_m2SLO_MP2_TM = ThetaModel(treino_m2SLO_MP2['Quantity'], deseasonalize=True, period=12).fit()\n",
        "predito_m2SLO_MP2_TM = modelo_m2SLO_MP2_TM.forecast(4)"
      ]
    },
    {
      "cell_type": "code",
      "execution_count": null,
      "metadata": {
        "id": "oj0pukDUl0OY"
      },
      "outputs": [],
      "source": [
        "MAPE_m2SLO_MP2_TM = round(100*mean_absolute_percentage_error(teste_m2SLO_MP2['Quantity'],predito_m2SLO_MP2_TM),2)\n",
        "print(f'TM: Mean Absolute Percentage Error MAPE = {MAPE_m2SLO_MP2_TM}%')"
      ]
    },
    {
      "cell_type": "code",
      "execution_count": null,
      "metadata": {
        "id": "nGdyTq3tmHvY"
      },
      "outputs": [],
      "source": [
        "modelo_m2SLO_MP2_HW = ExponentialSmoothing(treino_m2SLO_MP2['Quantity'],trend='add',seasonal='add',seasonal_periods=12).fit();\n",
        "treino_m2SLO_MP2['HoltWinters'] = modelo_m2SLO_MP2_HW.fittedvalues\n",
        "treino_m2SLO_MP2['Quantity'].plot(legend=True,label='Entregas', color='darkblue')\n",
        "treino_m2SLO_MP2['HoltWinters'].plot(legend=True,label='Fit HW',color='green',linestyle=':')\n",
        "plt.title('Fit do Modelo Holt-Winters à Série Temporal de Consumo de Ureia')\n",
        "plt.ylabel('Entregas (ton)')\n",
        "plt.show()"
      ]
    },
    {
      "cell_type": "code",
      "execution_count": null,
      "metadata": {
        "id": "SOnij73zme1_"
      },
      "outputs": [],
      "source": [
        "predito_m2SLO_MP2_HW = modelo_m2SLO_MP2_HW.forecast(4).rename('Previsão SLO Ureia HW')"
      ]
    },
    {
      "cell_type": "code",
      "execution_count": null,
      "metadata": {
        "id": "LqQ1pcaxmn0n"
      },
      "outputs": [],
      "source": [
        "MAPE_m2SLO_MP2_HW = round(100*mean_absolute_percentage_error(teste_m2SLO_MP2['Quantity'],predito_m2SLO_MP2_HW),2)\n",
        "print(f'sARIMA: Mean Absolute Percentage Error MAPE = {MAPE_m2SLO_MP2_HW}%')"
      ]
    },
    {
      "cell_type": "code",
      "execution_count": null,
      "metadata": {
        "id": "J9-x1W9AsKRZ"
      },
      "outputs": [],
      "source": [
        "sns.set_style('whitegrid')\n",
        "treino_m2SLO_MP2['Quantity'].plot(legend=True,label='Entregas (Treino)',color='darkblue')\n",
        "teste_m2SLO_MP2['Quantity'].plot(legend=True,label='Entregas (Teste)',color='red')\n",
        "predito_m2SLO_MP2_HW.plot(legend=True,label='Previsão Holt-Winters', linestyle=':',color='green')\n",
        "plt.title('Previsão de Holt-Winters para Entregas Mensais de Ureia em São Luís')\n",
        "plt.show()"
      ]
    },
    {
      "cell_type": "markdown",
      "metadata": {
        "id": "5bch6ZEUqEsq"
      },
      "source": [
        "### **Entregas Mensais de MAP**"
      ]
    },
    {
      "cell_type": "code",
      "execution_count": null,
      "metadata": {
        "id": "yUGYLeXDqMno"
      },
      "outputs": [],
      "source": [
        "mSLO_MP3 = sns.lineplot(x=dm2_SLO_MP3.index[:], y = dm2_SLO_MP3['Quantity'][:], color = 'red', dashes=dm2_SLO_MP3['Quantity'])\n",
        "mSLO_MP3.set_title('São Luís - Entregas Mensais de MAP (toneladas)', fontsize = 15)\n",
        "mSLO_MP3.set_ylabel('Entregas (ton)', fontsize = 13)\n",
        "mSLO_MP3.set_xlabel('Dias', fontsize = 13)\n",
        "plt.show()"
      ]
    },
    {
      "cell_type": "code",
      "execution_count": null,
      "metadata": {
        "id": "2bS7rI60VSNZ"
      },
      "outputs": [],
      "source": [
        "sns.set_style('whitegrid')\n",
        "lags = 36\n",
        "title1 = 'Autocorrelação: Entregas Mensais de MAP em São Luís'\n",
        "plot_acf(dm2_SLO_MP3['Quantity'],title=title1,lags=lags);"
      ]
    },
    {
      "cell_type": "code",
      "execution_count": null,
      "metadata": {
        "id": "HEB20ErAX-xb"
      },
      "outputs": [],
      "source": [
        "result_m = adfuller(dm2_SLO_MP3['Quantity'], autolag='AIC')\n",
        "print(f'Estatítica de Dickey-Fuller para a série original: {result_m[0]} \\n')\n",
        "print(f'p-Valor: {result_m[1]}')\n",
        "for key, value in result_m[4].items():\n",
        "  print('\\t%s: %.3f' % (key,value))"
      ]
    },
    {
      "cell_type": "code",
      "execution_count": null,
      "metadata": {
        "id": "Osz2kFLCqiGE"
      },
      "outputs": [],
      "source": [
        "auto_arima(treino_m2SLO_MP3['Quantity'],seasonal=True,m=12)\n",
        "stepwise_fit = auto_arima(treino_m2SLO_MP3['Quantity'], start_p=0, start_q=0, start_d = 0, max_p=6, max_q=6, max_d=6, m=12,\n",
        "                          seasonal=True,\n",
        "                          trace=True,\n",
        "                          error_action='ignore',\n",
        "                          suppress_warnings=True,\n",
        "                          stepwise=True)"
      ]
    },
    {
      "cell_type": "code",
      "execution_count": null,
      "metadata": {
        "id": "hqFjodDxqxVY"
      },
      "outputs": [],
      "source": [
        "sARIMA_m2SLO_MP3 = SARIMAX(treino_m2SLO_MP3['Quantity'],order=(1,0,0),seasonal_order=(2,0,0,12))\n",
        "resultado_m2SLO_MP3 = sARIMA_m2SLO_MP3.fit()"
      ]
    },
    {
      "cell_type": "code",
      "execution_count": null,
      "metadata": {
        "id": "tka_lpvXrCDq"
      },
      "outputs": [],
      "source": [
        "inicio = len(treino_m2SLO_MP3)\n",
        "fim = len(treino_m2SLO_MP3)+len(teste_m2SLO_MP3)-1\n",
        "predito_sARIMA_m2SLO_MP3 = resultado_m2SLO_MP3.predict(start=inicio, end=fim, dynamic=False, typ='levels').rename('Previsão sARIMA(0,0,1)(2,0,1,6')\n",
        "predito_sARIMA_m2SLO_MP3.index = teste_m2SLO_MP3.index\n",
        "treino_m2SLO_MP3['Quantity'].plot(legend=True,label='Treino')\n",
        "teste_m2SLO_MP3['Quantity'].plot(legend=True,label='Teste')\n",
        "predito_sARIMA_m2SLO_MP3.plot(legend=True,label='Predito')\n",
        "plt.title('São Luís - Modelo de Previsão de Entregas Mensais de MAP (ton)')\n",
        "plt.show()"
      ]
    },
    {
      "cell_type": "code",
      "execution_count": null,
      "metadata": {
        "id": "BvMwi9Y6rOSi"
      },
      "outputs": [],
      "source": [
        "MAPE_sARIMA_m2SLO_MP3 = round(100*mean_absolute_percentage_error(teste_m2SLO_MP3['Quantity'],predito_sARIMA_m2SLO_MP3),2)\n",
        "print(f'sARIMA: Mean Absolute Percentage Error MAPE = {MAPE_sARIMA_m2SLO_MP3}%')"
      ]
    },
    {
      "cell_type": "code",
      "execution_count": null,
      "metadata": {
        "id": "xrYJ6RsuFcuc"
      },
      "outputs": [],
      "source": [
        "modelo_m2SLO_MP3_HW = ExponentialSmoothing(treino_m2SLO_MP3['Quantity'],trend='add',seasonal='add',seasonal_periods=12).fit();\n",
        "treino_m2SLO_MP3['HoltWinters'] = modelo_m2SLO_MP3_HW.fittedvalues\n",
        "treino_m2SLO_MP3['Quantity'].plot(legend=True,label='Entregas', color='darkblue')\n",
        "treino_m2SLO_MP3['HoltWinters'].plot(legend=True,label='Fit HW',color='green',linestyle=':')\n",
        "plt.title('Fit do Modelo Holt-Winters à Série Temporal de Consumo de Ureia')\n",
        "plt.ylabel('Entregas (ton)')\n",
        "plt.show()"
      ]
    },
    {
      "cell_type": "markdown",
      "metadata": {
        "id": "63Mrahd4w13p"
      },
      "source": [
        "### **Entregas Mensais de TSP**"
      ]
    },
    {
      "cell_type": "code",
      "execution_count": null,
      "metadata": {
        "id": "lVp1UL3vxEm5"
      },
      "outputs": [],
      "source": [
        "mSLO_MP4 = sns.lineplot(x=dm2_SLO_MP4.index[:], y = dm2_SLO_MP4['Quantity'][:], color = 'red', dashes=dm2_SLO_MP4['Quantity'])\n",
        "mSLO_MP4.set_title('São Luís - Entregas Mensais de TSP (toneladas)', fontsize = 15)\n",
        "mSLO_MP4.set_ylabel('Entregas (ton)', fontsize = 13)\n",
        "mSLO_MP4.set_xlabel('Dias', fontsize = 13)\n",
        "plt.show()"
      ]
    },
    {
      "cell_type": "code",
      "execution_count": null,
      "metadata": {
        "id": "X4E-0ch_Vi3C"
      },
      "outputs": [],
      "source": [
        "sns.set_style('whitegrid')\n",
        "lags = 36\n",
        "title1 = 'Autocorrelação: Entregas Mensais de TSP em São Luís'\n",
        "plot_acf(dm2_SLO_MP4['Quantity'],title=title1,lags=lags);"
      ]
    },
    {
      "cell_type": "code",
      "execution_count": null,
      "metadata": {
        "id": "h91DSqAyYm1s"
      },
      "outputs": [],
      "source": [
        "result_m = adfuller(dm2_SLO_MP4['Quantity'], autolag='AIC')\n",
        "print(f'Estatítica de Dickey-Fuller para a série original: {result_m[0]} \\n')\n",
        "print(f'p-Valor: {result_m[1]}')\n",
        "for key, value in result_m[4].items():\n",
        "  print('\\t%s: %.3f' % (key,value))"
      ]
    },
    {
      "cell_type": "code",
      "execution_count": null,
      "metadata": {
        "id": "d34Xf2UExI22"
      },
      "outputs": [],
      "source": [
        "auto_arima(treino_m2SLO_MP4['Quantity'],seasonal=True,m=6)\n",
        "stepwise_fit = auto_arima(treino_m2SLO_MP4['Quantity'], start_p=0, start_q=0, start_d = 0, max_p=6, max_q=6, max_d=6, m=6,\n",
        "                          seasonal=True,\n",
        "                          trace=True,\n",
        "                          error_action='ignore',\n",
        "                          suppress_warnings=True,\n",
        "                          stepwise=True)"
      ]
    },
    {
      "cell_type": "code",
      "execution_count": null,
      "metadata": {
        "id": "ofdyEYzVxc6_"
      },
      "outputs": [],
      "source": [
        "sARIMA_m2SLO_MP4 = SARIMAX(treino_m2SLO_MP4['Quantity'],order=(1,0,0),seasonal_order=(2,0,0,6))\n",
        "resultado_m2SLO_MP4 = sARIMA_m2SLO_MP4.fit()"
      ]
    },
    {
      "cell_type": "code",
      "execution_count": null,
      "metadata": {
        "id": "aIuLd-fSxpPG"
      },
      "outputs": [],
      "source": [
        "inicio = len(treino_m2SLO_MP4)\n",
        "fim = len(treino_m2SLO_MP4)+len(teste_m2SLO_MP4)-1\n",
        "predito_sARIMA_m2SLO_MP4 = resultado_m2SLO_MP4.predict(start=inicio, end=fim, dynamic=False, typ='levels').rename('Previsão sARIMA(0,0,1)(2,0,1,6')\n",
        "predito_sARIMA_m2SLO_MP4.index = teste_m2SLO_MP4.index\n",
        "treino_m2SLO_MP4['Quantity'].plot(legend=True,label='Treino')\n",
        "teste_m2SLO_MP4['Quantity'].plot(legend=True,label='Teste')\n",
        "predito_sARIMA_m2SLO_MP4.plot(legend=True,label='Predito')\n",
        "plt.title('São Luís - Modelo de Previsão de Entregas Mensais de TSP (ton)')\n",
        "plt.show()"
      ]
    },
    {
      "cell_type": "code",
      "execution_count": null,
      "metadata": {
        "id": "-hm7fcgpx6q5"
      },
      "outputs": [],
      "source": [
        "MAPE_sARIMA_m2SLO_MP4 = round(100*mean_absolute_percentage_error(teste_m2SLO_MP4['Quantity'],predito_sARIMA_m2SLO_MP4),2)\n",
        "print(f'sARIMA: Mean Absolute Percentage Error MAPE = {MAPE_sARIMA_m2SLO_MP4}%')"
      ]
    },
    {
      "cell_type": "markdown",
      "metadata": {
        "id": "SWiN75FwyZmw"
      },
      "source": [
        "### **Entregas Mensais de SSP**"
      ]
    },
    {
      "cell_type": "code",
      "execution_count": null,
      "metadata": {
        "id": "jp6TBkUzyiza"
      },
      "outputs": [],
      "source": [
        "mSLO_MP5 = sns.lineplot(x=dm2_SLO_MP5.index[:], y = dm2_SLO_MP5['Quantity'][:], color = 'red', dashes=dm2_SLO_MP5['Quantity'])\n",
        "mSLO_MP5.set_title('São Luís - Entregas Mensais de SSP (toneladas)', fontsize = 15)\n",
        "mSLO_MP5.set_ylabel('Entregas (ton)', fontsize = 13)\n",
        "mSLO_MP5.set_xlabel('Dias', fontsize = 13)\n",
        "plt.show()"
      ]
    },
    {
      "cell_type": "code",
      "execution_count": null,
      "metadata": {
        "id": "If6GPnxcVsHU"
      },
      "outputs": [],
      "source": [
        "sns.set_style('whitegrid')\n",
        "lags = 36\n",
        "title1 = 'Autocorrelação: Entregas Mensais de SSP em São Luís'\n",
        "plot_acf(dm2_SLO_MP5['Quantity'],title=title1,lags=lags);"
      ]
    },
    {
      "cell_type": "code",
      "execution_count": null,
      "metadata": {
        "id": "aU4RyIY4Y9Sh"
      },
      "outputs": [],
      "source": [
        "result_m = adfuller(dm2_SLO_MP5['Quantity'], autolag='AIC')\n",
        "print(f'Estatítica de Dickey-Fuller para a série original: {result_m[0]} \\n')\n",
        "print(f'p-Valor: {result_m[1]}')\n",
        "for key, value in result_m[4].items():\n",
        "  print('\\t%s: %.3f' % (key,value))"
      ]
    },
    {
      "cell_type": "code",
      "execution_count": null,
      "metadata": {
        "id": "bbGAlimJaA5-"
      },
      "outputs": [],
      "source": [
        "result_m = adfuller(np.diff(dm2_SLO_MP5['Quantity']), autolag='AIC')\n",
        "print(f'Estatítica de Dickey-Fuller para a série original: {result_m[0]} \\n')\n",
        "print(f'p-Valor: {result_m[1]}')\n",
        "for key, value in result_m[4].items():\n",
        "  print('\\t%s: %.3f' % (key,value))"
      ]
    },
    {
      "cell_type": "code",
      "execution_count": null,
      "metadata": {
        "id": "onolatJGy-h9"
      },
      "outputs": [],
      "source": [
        "auto_arima(treino_m2SLO_MP5['Quantity'],seasonal=True,m=6)\n",
        "stepwise_fit = auto_arima(treino_m2SLO_MP5['Quantity'], start_p=0, start_q=0, start_d = 0, max_p=6, max_q=6, max_d=6, m=6,\n",
        "                          seasonal=True,\n",
        "                          trace=True,\n",
        "                          error_action='ignore',\n",
        "                          suppress_warnings=True,\n",
        "                          stepwise=True)"
      ]
    },
    {
      "cell_type": "code",
      "execution_count": null,
      "metadata": {
        "id": "qJWV5NtEzc3p"
      },
      "outputs": [],
      "source": [
        "sARIMA_m2SLO_MP5 = SARIMAX(treino_m2SLO_MP5['Quantity'],order=(1,0,0),seasonal_order=(2,0,0,6))\n",
        "resultado_m2SLO_MP5 = sARIMA_m2SLO_MP5.fit()"
      ]
    },
    {
      "cell_type": "code",
      "execution_count": null,
      "metadata": {
        "id": "bkAn41hlzq7t"
      },
      "outputs": [],
      "source": [
        "inicio = len(treino_m2SLO_MP5)\n",
        "fim = len(treino_m2SLO_MP5)+len(teste_m2SLO_MP5)-1\n",
        "predito_sARIMA_m2SLO_MP5 = resultado_m2SLO_MP5.predict(start=inicio, end=fim, dynamic=False, typ='levels').rename('Previsão sARIMA(0,0,1)(2,0,1,6')\n",
        "predito_sARIMA_m2SLO_MP5.index = teste_m2SLO_MP5.index\n",
        "treino_m2SLO_MP5['Quantity'].plot(legend=True,label='Treino')\n",
        "teste_m2SLO_MP5['Quantity'].plot(legend=True,label='Teste')\n",
        "predito_sARIMA_m2SLO_MP5.plot(legend=True,label='Predito')\n",
        "plt.title('São Luís - Modelo de Previsão de Entregas Mensais de SSP (ton)')\n",
        "plt.show()"
      ]
    },
    {
      "cell_type": "code",
      "execution_count": null,
      "metadata": {
        "id": "MLweck6kzvab"
      },
      "outputs": [],
      "source": [
        "MAPE_sARIMA_m2SLO_MP5 = round(100*mean_absolute_percentage_error(teste_m2SLO_MP5['Quantity'],predito_sARIMA_m2SLO_MP5),2)\n",
        "print(f'sARIMA: Mean Absolute Percentage Error MAPE = {MAPE_sARIMA_m2SLO_MP5}%')"
      ]
    },
    {
      "cell_type": "markdown",
      "metadata": {
        "id": "b7OXes-7mvrN"
      },
      "source": [
        "### _**Visualização Agregada**_"
      ]
    },
    {
      "cell_type": "code",
      "execution_count": null,
      "metadata": {
        "id": "RB_YVvbAmzKZ"
      },
      "outputs": [],
      "source": [
        "plt.rc(\"figure\",figsize=(15,8))\n",
        "plt.rc(\"font\",size=15)\n",
        "plt.rc(\"lines\",linewidth=2)\n",
        "sns.set_style(\"darkgrid\")"
      ]
    },
    {
      "cell_type": "code",
      "execution_count": null,
      "metadata": {
        "id": "VYAyaXxFqGl5"
      },
      "outputs": [],
      "source": [
        "dm2_SLO_MP345 = dm2_SLO_MP3.copy()"
      ]
    },
    {
      "cell_type": "code",
      "execution_count": null,
      "metadata": {
        "id": "lmOGa6V4qp9t"
      },
      "outputs": [],
      "source": [
        "for i in range(dm2_SLO_MP345.shape[0]):\n",
        "  dm2_SLO_MP345['Quantity'][i] = dm2_SLO_MP345['Quantity'][i] + dm2_SLO_MP4['Quantity'][i] + dm2_SLO_MP5['Quantity'][i]"
      ]
    },
    {
      "cell_type": "code",
      "execution_count": null,
      "metadata": {
        "id": "FalIpS-Tm2LT"
      },
      "outputs": [],
      "source": [
        "mSLO = sns.lineplot(x=dm1_SLO.index[24:], y = dm1_SLO['Deliveries'][24:], color = 'blue', dashes=dm1_SLO['Deliveries'],\n",
        "                    label = 'Entregas Totais')\n",
        "##mSLO_MP1 = sns.lineplot(x=dm2_SLO_MP1.index[:], y = dm2_SLO_MP1['Quantity'][:], color = 'red', dashes=dm2_SLO_MP1['Quantity'],\n",
        "##                        linestyle='--')\n",
        "##mSLO_MP2 = sns.lineplot(x=dm2_SLO_MP2.index[:], y = dm2_SLO_MP2['Quantity'][:], color = 'green', dashes=dm2_SLO_MP2['Quantity'],\n",
        "##                        linestyle=':')\n",
        "mSLO_MP1 = plt.fill_between(dm2_SLO_MP1.index[:], dm2_SLO_MP1['Quantity'][:], color='purple',label='Cloreto')\n",
        "mSLO_MP2 = plt.fill_between(dm2_SLO_MP2.index[:], dm2_SLO_MP2['Quantity'][:], color='darkblue',label='Ureia')\n",
        "##mSLO_MP2 = sns.lineplot(x=dm2_SLO_MP2.index[:], y = dm2_SLO_MP2['Quantity'][:], color = 'green', dashes=dm2_SLO_MP2['Quantity'],\n",
        "##                        linestyle=':')\n",
        "mSLO_MP345 = sns.lineplot(x=dm2_SLO_MP345.index[:], y = dm2_SLO_MP345['Quantity'][:], color = 'red', dashes=dm2_SLO_MP345['Quantity'],\n",
        "                        linestyle=':',label='Fosfatados')\n",
        "mSLO.set_title('São Luís - Comparação entre Entregas Totais e Consumos de Matérias-Primas', fontsize = 15)\n",
        "mSLO.set_ylabel('Entregas (ton)', fontsize = 13)\n",
        "mSLO.set_xlabel('Meses', fontsize = 13)\n",
        "plt.legend()\n",
        "plt.show()"
      ]
    },
    {
      "cell_type": "markdown",
      "metadata": {
        "id": "SAlJlMgwZ09k"
      },
      "source": [
        "# _**Modelos**_"
      ]
    },
    {
      "cell_type": "markdown",
      "metadata": {
        "id": "7kxbOZmEMKvh"
      },
      "source": [
        "#### Modelo: **_Previsão de Entregas Diárias_**"
      ]
    },
    {
      "cell_type": "code",
      "execution_count": null,
      "metadata": {
        "id": "UXRiUyRCMRDL"
      },
      "outputs": [],
      "source": [
        "#7\n",
        "modelo_d1SLO = SARIMAX(df1_SLO['Deliveries'],order=(6,1,0),seasonal_order=(1,0,2,7))\n",
        "res_modelo_d1SLO = modelo_d1SLO.fit()\n",
        "forecast_d1SLO = res_modelo_d1SLO.predict(len(df1_SLO),len(df1_SLO)+7,typ='levels').rename('São Luís - Forecast para Entregas Diárias')\n",
        "df1_SLO['Deliveries'][-365:].plot(legend=True,label='Histórico de Entregas')\n",
        "forecast_d1SLO.plot(legend=True,label='Forecast',color='green')\n",
        "plt.title('São Luís - Forecast de Entregas Mensais: 7 dias')\n",
        "plt.show()"
      ]
    },
    {
      "cell_type": "code",
      "execution_count": null,
      "metadata": {
        "id": "3Kc2Q2wXNFkM"
      },
      "outputs": [],
      "source": [
        "print(f'MAPE = {MAPE_sARIMA_d1SLO}%')"
      ]
    },
    {
      "cell_type": "markdown",
      "metadata": {
        "id": "HY4tLOEBTUCh"
      },
      "source": [
        "#### Modelo: **_Previsão de Entregas Mensais_**"
      ]
    },
    {
      "cell_type": "code",
      "execution_count": null,
      "metadata": {
        "id": "8b1M0rYxuQKi"
      },
      "outputs": [],
      "source": [
        "modelo_m1SLO = SARIMAX(dm1_SLO['Deliveries'],order=(0,1,1),seasonal_order=(2,0,0,6))\n",
        "res_modelo_m1SLO = modelo_m1SLO.fit()\n",
        "forecast_m1SLO = res_modelo_m1SLO.predict(len(dm1_SLO),len(dm1_SLO)+5,typ='levels').rename('São Luís - Forecast para Entregas Mensais')\n",
        "dm1_SLO['Deliveries'].plot(legend=True,label='Histórico de Entregas')\n",
        "forecast_m1SLO.plot(legend=True,label='Forecast')\n",
        "plt.title('Araguari - Forecast de Entregas Mensais: 5 meses')\n",
        "plt.show()"
      ]
    },
    {
      "cell_type": "markdown",
      "metadata": {
        "id": "670tkKNGEHrK"
      },
      "source": [
        "#### Modelo: **_Previsão de Entregas Mensais de Cloreto de Potássio_**"
      ]
    },
    {
      "cell_type": "code",
      "execution_count": null,
      "metadata": {
        "id": "km9w3iBGEQ3S"
      },
      "outputs": [],
      "source": [
        "modelo_m2SLO_MP1 = SARIMAX(dm2_SLO_MP1['Quantity'],order=(2,0,2),seasonal_order=(2,0,2,6))\n",
        "res_modelo_m2SLO_MP1 = modelo_m2SLO_MP1.fit()\n",
        "forecast_m2SLO_MP1 = res_modelo_m2SLO_MP1.predict(len(dm2_SLO_MP1),len(dm2_SLO_MP1)+4,typ='levels').rename('São Luís - Forecast para Entregas Mensais de Cloreto de Potássio')\n",
        "dm2_SLO_MP1['Quantity'].plot(legend=True,label='Histórico de Entregas')\n",
        "forecast_m2SLO_MP1.plot(legend=True,label='Forecast')\n",
        "plt.title('Araguari - Forecast de Entregas Mensais de Cloreto de Potássio: 4 meses')\n",
        "plt.show()"
      ]
    },
    {
      "cell_type": "markdown",
      "metadata": {
        "id": "zCTVojqGSm20"
      },
      "source": [
        "#### Modelo: **_Previsão de Entregas Mensais de Ureia_**"
      ]
    },
    {
      "cell_type": "code",
      "execution_count": null,
      "metadata": {
        "id": "zXCMUqQXSqc9"
      },
      "outputs": [],
      "source": [
        "modelo_m2SLO_MP2 = SARIMAX(dm2_SLO_MP2['Quantity'],order=(2,1,1),seasonal_order=(2,0,1,6))\n",
        "res_modelo_m2SLO_MP2 = modelo_m2SLO_MP2.fit()\n",
        "forecast_m2SLO_MP2 = res_modelo_m2SLO_MP2.predict(len(dm2_SLO_MP2),len(dm2_SLO_MP2)+3,typ='levels').rename('São Luís - Forecast para Entregas Mensais de Ureia')\n",
        "dm2_SLO_MP2['Quantity'].plot(legend=True,label='Histórico de Entregas')\n",
        "forecast_m2SLO_MP2.plot(legend=True,label='Forecast')\n",
        "plt.title('Araguari - Forecast de Entregas Mensais de Ureia: 3 meses')\n",
        "plt.show()"
      ]
    },
    {
      "cell_type": "markdown",
      "metadata": {
        "id": "iaOIgFJO19lM"
      },
      "source": [
        "#### Modelo: **_Previsão de Entregas Mensais de MAP_**"
      ]
    },
    {
      "cell_type": "code",
      "execution_count": null,
      "metadata": {
        "id": "JXLU23cW2BZL"
      },
      "outputs": [],
      "source": [
        "modelo_m2SLO_MP3 = SARIMAX(dm2_SLO_MP3['Quantity'],order=(2,0,2),seasonal_order=(2,0,2,6))\n",
        "res_modelo_m2SLO_MP3 = modelo_m2SLO_MP3.fit()\n",
        "forecast_m2SLO_MP3 = res_modelo_m2SLO_MP3.predict(len(dm2_SLO_MP3),len(dm2_SLO_MP3)+3,typ='levels').rename('São Luís - Forecast para Entregas Mensais de MAP')\n",
        "dm2_SLO_MP3['Quantity'].plot(legend=True,label='Histórico de Entregas')\n",
        "forecast_m2SLO_MP3.plot(legend=True,label='Forecast')\n",
        "plt.title('São Luís - Forecast de Entregas Mensais de MAP: 3 meses')\n",
        "plt.show()"
      ]
    },
    {
      "cell_type": "markdown",
      "metadata": {
        "id": "Gz8ytYZl21dV"
      },
      "source": [
        "#### Modelo: **_Previsão de Entregas Mensais de TSP_**"
      ]
    },
    {
      "cell_type": "code",
      "execution_count": null,
      "metadata": {
        "id": "5XboP-eThzyG"
      },
      "outputs": [],
      "source": [
        "modelo_m2SLO_MP4 = SARIMAX(dm2_SLO_MP4['Quantity'],order=(1,0,0),seasonal_order=(2,0,0,6))\n",
        "res_modelo_m2SLO_MP4 = modelo_m2SLO_MP4.fit()\n",
        "forecast_m2SLO_MP4 = res_modelo_m2SLO_MP4.predict(len(dm2_SLO_MP4),len(dm2_SLO_MP4)+3,typ='levels').rename('São Luís - Forecast para Entregas Mensais de TSP')\n",
        "dm2_SLO_MP4['Quantity'].plot(legend=True,label='Histórico de Entregas')\n",
        "forecast_m2SLO_MP4.plot(legend=True,label='Forecast')\n",
        "plt.title('São Luís - Forecast de Entregas Mensais de TSP: 3 meses')\n",
        "plt.show()"
      ]
    },
    {
      "cell_type": "markdown",
      "metadata": {
        "id": "GcGGIaSZiHDO"
      },
      "source": [
        "#### Modelo: **_Previsão de Entregas Mensais de SSP_**"
      ]
    },
    {
      "cell_type": "code",
      "execution_count": null,
      "metadata": {
        "id": "HoTSAbd6iLXr"
      },
      "outputs": [],
      "source": [
        "modelo_m2SLO_MP5 = SARIMAX(dm2_SLO_MP5['Quantity'],order=(1,0,0),seasonal_order=(2,0,0,6))\n",
        "res_modelo_m2SLO_MP5 = modelo_m2SLO_MP5.fit()\n",
        "forecast_m2SLO_MP5 = res_modelo_m2SLO_MP5.predict(len(dm2_SLO_MP5),len(dm2_SLO_MP5)+3,typ='levels').rename('São Luís - Forecast para Entregas Mensais de SSP')\n",
        "dm2_SLO_MP5['Quantity'].plot(legend=True,label='Histórico de Entregas')\n",
        "forecast_m2SLO_MP5.plot(legend=True,label='Forecast')\n",
        "plt.title('São Luís - Forecast de Entregas Mensais de SSP: 3 meses')\n",
        "plt.show()"
      ]
    }
  ],
  "metadata": {
    "colab": {
      "collapsed_sections": [
        "hsg7UUMg-TbB",
        "k-MdSA3qGUGy",
        "7kxbOZmEMKvh",
        "HY4tLOEBTUCh",
        "670tkKNGEHrK",
        "zCTVojqGSm20",
        "k-Wci1J0JLE8"
      ],
      "name": "S&OP Forecasting Tool",
      "provenance": []
    },
    "kernelspec": {
      "display_name": "Python 3",
      "name": "python3"
    },
    "language_info": {
      "name": "python"
    }
  },
  "nbformat": 4,
  "nbformat_minor": 0
}