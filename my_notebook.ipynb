{
 "cells": [
  {
   "cell_type": "markdown",
   "metadata": {},
   "source": [
    "# My Jupyter Notebook on IBM Data Science"
   ]
  },
  {
   "cell_type": "markdown",
   "metadata": {},
   "source": [
    "**Murilo Lima Ribeiro**  \n",
    "Product Specialist"
   ]
  },
  {
   "cell_type": "markdown",
   "metadata": {},
   "source": [
    "_As professionals we live in a increasingly data-driven world. The ability to gather, manipulate and create insight from a data fram that is otherwise not straightforward to comprehend is what drives me towards a career in data science. I graduated as a chemical engineer, yet even in my segment it is clear to me how a data scientist skill set can be useful_"
   ]
  },
  {
   "cell_type": "markdown",
   "metadata": {},
   "source": [
    "### My code has to silly purpose of creating a map of the city where I studied and marking in a blue circle one of the places I loved to go grab some tea and a bun. That place was _The Bath Bun_"
   ]
  },
  {
   "cell_type": "code",
   "execution_count": 2,
   "metadata": {},
   "outputs": [
    {
     "name": "stdout",
     "output_type": "stream",
     "text": [
      "Requirement already satisfied: ipyleaflet in c:\\users\\tsukasa\\anaconda3\\lib\\site-packages (0.10.1)\n",
      "Requirement already satisfied: branca<0.4,>=0.3.1 in c:\\users\\tsukasa\\anaconda3\\lib\\site-packages (from ipyleaflet) (0.3.1)\n",
      "Requirement already satisfied: traittypes<3,>=0.2.1 in c:\\users\\tsukasa\\anaconda3\\lib\\site-packages (from ipyleaflet) (0.2.1)\n",
      "Requirement already satisfied: xarray>=0.10 in c:\\users\\tsukasa\\anaconda3\\lib\\site-packages (from ipyleaflet) (0.12.1)\n",
      "Requirement already satisfied: ipywidgets<8,>=7.0.0 in c:\\users\\tsukasa\\anaconda3\\lib\\site-packages (from ipyleaflet) (7.4.2)\n",
      "Requirement already satisfied: six in c:\\users\\tsukasa\\anaconda3\\lib\\site-packages (from branca<0.4,>=0.3.1->ipyleaflet) (1.12.0)\n",
      "Requirement already satisfied: jinja2 in c:\\users\\tsukasa\\anaconda3\\lib\\site-packages (from branca<0.4,>=0.3.1->ipyleaflet) (2.10)\n",
      "Requirement already satisfied: traitlets>=4.2.2 in c:\\users\\tsukasa\\anaconda3\\lib\\site-packages (from traittypes<3,>=0.2.1->ipyleaflet) (4.3.2)\n",
      "Requirement already satisfied: pandas>=0.19.2 in c:\\users\\tsukasa\\anaconda3\\lib\\site-packages (from xarray>=0.10->ipyleaflet) (0.24.2)\n",
      "Requirement already satisfied: numpy>=1.12 in c:\\users\\tsukasa\\anaconda3\\lib\\site-packages (from xarray>=0.10->ipyleaflet) (1.16.2)\n",
      "Requirement already satisfied: nbformat>=4.2.0 in c:\\users\\tsukasa\\anaconda3\\lib\\site-packages (from ipywidgets<8,>=7.0.0->ipyleaflet) (4.4.0)\n",
      "Requirement already satisfied: widgetsnbextension~=3.4.0 in c:\\users\\tsukasa\\anaconda3\\lib\\site-packages (from ipywidgets<8,>=7.0.0->ipyleaflet) (3.4.2)\n",
      "Requirement already satisfied: ipykernel>=4.5.1 in c:\\users\\tsukasa\\anaconda3\\lib\\site-packages (from ipywidgets<8,>=7.0.0->ipyleaflet) (5.1.0)\n",
      "Requirement already satisfied: ipython>=4.0.0; python_version >= \"3.3\" in c:\\users\\tsukasa\\anaconda3\\lib\\site-packages (from ipywidgets<8,>=7.0.0->ipyleaflet) (7.4.0)\n",
      "Requirement already satisfied: MarkupSafe>=0.23 in c:\\users\\tsukasa\\anaconda3\\lib\\site-packages (from jinja2->branca<0.4,>=0.3.1->ipyleaflet) (1.1.1)\n",
      "Requirement already satisfied: decorator in c:\\users\\tsukasa\\anaconda3\\lib\\site-packages (from traitlets>=4.2.2->traittypes<3,>=0.2.1->ipyleaflet) (4.4.0)\n",
      "Requirement already satisfied: ipython-genutils in c:\\users\\tsukasa\\anaconda3\\lib\\site-packages (from traitlets>=4.2.2->traittypes<3,>=0.2.1->ipyleaflet) (0.2.0)\n",
      "Requirement already satisfied: python-dateutil>=2.5.0 in c:\\users\\tsukasa\\anaconda3\\lib\\site-packages (from pandas>=0.19.2->xarray>=0.10->ipyleaflet) (2.8.0)\n",
      "Requirement already satisfied: pytz>=2011k in c:\\users\\tsukasa\\anaconda3\\lib\\site-packages (from pandas>=0.19.2->xarray>=0.10->ipyleaflet) (2018.9)\n",
      "Requirement already satisfied: jsonschema!=2.5.0,>=2.4 in c:\\users\\tsukasa\\anaconda3\\lib\\site-packages (from nbformat>=4.2.0->ipywidgets<8,>=7.0.0->ipyleaflet) (3.0.1)\n",
      "Requirement already satisfied: jupyter-core in c:\\users\\tsukasa\\anaconda3\\lib\\site-packages (from nbformat>=4.2.0->ipywidgets<8,>=7.0.0->ipyleaflet) (4.4.0)\n",
      "Requirement already satisfied: notebook>=4.4.1 in c:\\users\\tsukasa\\anaconda3\\lib\\site-packages (from widgetsnbextension~=3.4.0->ipywidgets<8,>=7.0.0->ipyleaflet) (5.7.8)\n",
      "Requirement already satisfied: tornado>=4.2 in c:\\users\\tsukasa\\anaconda3\\lib\\site-packages (from ipykernel>=4.5.1->ipywidgets<8,>=7.0.0->ipyleaflet) (6.0.2)\n",
      "Requirement already satisfied: jupyter-client in c:\\users\\tsukasa\\anaconda3\\lib\\site-packages (from ipykernel>=4.5.1->ipywidgets<8,>=7.0.0->ipyleaflet) (5.2.4)\n",
      "Requirement already satisfied: colorama; sys_platform == \"win32\" in c:\\users\\tsukasa\\anaconda3\\lib\\site-packages (from ipython>=4.0.0; python_version >= \"3.3\"->ipywidgets<8,>=7.0.0->ipyleaflet) (0.4.1)\n",
      "Requirement already satisfied: jedi>=0.10 in c:\\users\\tsukasa\\anaconda3\\lib\\site-packages (from ipython>=4.0.0; python_version >= \"3.3\"->ipywidgets<8,>=7.0.0->ipyleaflet) (0.13.3)\n",
      "Requirement already satisfied: prompt-toolkit<2.1.0,>=2.0.0 in c:\\users\\tsukasa\\anaconda3\\lib\\site-packages (from ipython>=4.0.0; python_version >= \"3.3\"->ipywidgets<8,>=7.0.0->ipyleaflet) (2.0.9)\n",
      "Requirement already satisfied: pygments in c:\\users\\tsukasa\\anaconda3\\lib\\site-packages (from ipython>=4.0.0; python_version >= \"3.3\"->ipywidgets<8,>=7.0.0->ipyleaflet) (2.3.1)\n",
      "Requirement already satisfied: setuptools>=18.5 in c:\\users\\tsukasa\\anaconda3\\lib\\site-packages (from ipython>=4.0.0; python_version >= \"3.3\"->ipywidgets<8,>=7.0.0->ipyleaflet) (40.8.0)\n",
      "Requirement already satisfied: pickleshare in c:\\users\\tsukasa\\anaconda3\\lib\\site-packages (from ipython>=4.0.0; python_version >= \"3.3\"->ipywidgets<8,>=7.0.0->ipyleaflet) (0.7.5)\n",
      "Requirement already satisfied: backcall in c:\\users\\tsukasa\\anaconda3\\lib\\site-packages (from ipython>=4.0.0; python_version >= \"3.3\"->ipywidgets<8,>=7.0.0->ipyleaflet) (0.1.0)\n",
      "Requirement already satisfied: attrs>=17.4.0 in c:\\users\\tsukasa\\anaconda3\\lib\\site-packages (from jsonschema!=2.5.0,>=2.4->nbformat>=4.2.0->ipywidgets<8,>=7.0.0->ipyleaflet) (19.1.0)\n",
      "Requirement already satisfied: pyrsistent>=0.14.0 in c:\\users\\tsukasa\\anaconda3\\lib\\site-packages (from jsonschema!=2.5.0,>=2.4->nbformat>=4.2.0->ipywidgets<8,>=7.0.0->ipyleaflet) (0.14.11)\n",
      "Requirement already satisfied: pyzmq>=17 in c:\\users\\tsukasa\\anaconda3\\lib\\site-packages (from notebook>=4.4.1->widgetsnbextension~=3.4.0->ipywidgets<8,>=7.0.0->ipyleaflet) (18.0.0)\n",
      "Requirement already satisfied: prometheus-client in c:\\users\\tsukasa\\anaconda3\\lib\\site-packages (from notebook>=4.4.1->widgetsnbextension~=3.4.0->ipywidgets<8,>=7.0.0->ipyleaflet) (0.6.0)\n",
      "Requirement already satisfied: nbconvert in c:\\users\\tsukasa\\anaconda3\\lib\\site-packages (from notebook>=4.4.1->widgetsnbextension~=3.4.0->ipywidgets<8,>=7.0.0->ipyleaflet) (5.4.1)\n",
      "Requirement already satisfied: Send2Trash in c:\\users\\tsukasa\\anaconda3\\lib\\site-packages (from notebook>=4.4.1->widgetsnbextension~=3.4.0->ipywidgets<8,>=7.0.0->ipyleaflet) (1.5.0)\n",
      "Requirement already satisfied: terminado>=0.8.1 in c:\\users\\tsukasa\\anaconda3\\lib\\site-packages (from notebook>=4.4.1->widgetsnbextension~=3.4.0->ipywidgets<8,>=7.0.0->ipyleaflet) (0.8.1)\n",
      "Requirement already satisfied: parso>=0.3.0 in c:\\users\\tsukasa\\anaconda3\\lib\\site-packages (from jedi>=0.10->ipython>=4.0.0; python_version >= \"3.3\"->ipywidgets<8,>=7.0.0->ipyleaflet) (0.3.4)\n",
      "Requirement already satisfied: wcwidth in c:\\users\\tsukasa\\anaconda3\\lib\\site-packages (from prompt-toolkit<2.1.0,>=2.0.0->ipython>=4.0.0; python_version >= \"3.3\"->ipywidgets<8,>=7.0.0->ipyleaflet) (0.1.7)\n",
      "Requirement already satisfied: mistune>=0.8.1 in c:\\users\\tsukasa\\anaconda3\\lib\\site-packages (from nbconvert->notebook>=4.4.1->widgetsnbextension~=3.4.0->ipywidgets<8,>=7.0.0->ipyleaflet) (0.8.4)\n",
      "Requirement already satisfied: entrypoints>=0.2.2 in c:\\users\\tsukasa\\anaconda3\\lib\\site-packages (from nbconvert->notebook>=4.4.1->widgetsnbextension~=3.4.0->ipywidgets<8,>=7.0.0->ipyleaflet) (0.3)\n",
      "Requirement already satisfied: bleach in c:\\users\\tsukasa\\anaconda3\\lib\\site-packages (from nbconvert->notebook>=4.4.1->widgetsnbextension~=3.4.0->ipywidgets<8,>=7.0.0->ipyleaflet) (3.1.0)\n",
      "Requirement already satisfied: pandocfilters>=1.4.1 in c:\\users\\tsukasa\\anaconda3\\lib\\site-packages (from nbconvert->notebook>=4.4.1->widgetsnbextension~=3.4.0->ipywidgets<8,>=7.0.0->ipyleaflet) (1.4.2)\n",
      "Requirement already satisfied: testpath in c:\\users\\tsukasa\\anaconda3\\lib\\site-packages (from nbconvert->notebook>=4.4.1->widgetsnbextension~=3.4.0->ipywidgets<8,>=7.0.0->ipyleaflet) (0.4.2)\n",
      "Requirement already satisfied: defusedxml in c:\\users\\tsukasa\\anaconda3\\lib\\site-packages (from nbconvert->notebook>=4.4.1->widgetsnbextension~=3.4.0->ipywidgets<8,>=7.0.0->ipyleaflet) (0.5.0)\n",
      "Requirement already satisfied: webencodings in c:\\users\\tsukasa\\anaconda3\\lib\\site-packages (from bleach->nbconvert->notebook>=4.4.1->widgetsnbextension~=3.4.0->ipywidgets<8,>=7.0.0->ipyleaflet) (0.5.1)\n"
     ]
    },
    {
     "name": "stderr",
     "output_type": "stream",
     "text": [
      "C:\\Users\\Tsukasa\\Anaconda3\\lib\\site-packages\\dask\\config.py:168: YAMLLoadWarning: calling yaml.load() without Loader=... is deprecated, as the default Loader is unsafe. Please read https://msg.pyyaml.org/load for full details.\n",
      "  data = yaml.load(f.read()) or {}\n",
      "C:\\Users\\Tsukasa\\Anaconda3\\lib\\site-packages\\distributed\\config.py:20: YAMLLoadWarning: calling yaml.load() without Loader=... is deprecated, as the default Loader is unsafe. Please read https://msg.pyyaml.org/load for full details.\n",
      "  defaults = yaml.load(f)\n",
      "Enabling notebook extension jupyter-leaflet/extension...\n",
      "      - Validating: ok\n"
     ]
    },
    {
     "data": {
      "application/vnd.jupyter.widget-view+json": {
       "model_id": "f07365eb095d48f7802cd5bca48b0689",
       "version_major": 2,
       "version_minor": 0
      },
      "text/plain": [
       "Map(basemap={'url': 'https://{s}.tile.openstreetmap.org/{z}/{x}/{y}.png', 'max_zoom': 19, 'attribution': 'Map …"
      ]
     },
     "metadata": {},
     "output_type": "display_data"
    }
   ],
   "source": [
    "!pip install ipyleaflet\n",
    "!jupyter nbextension enable --py --sys-prefix ipyleaflet\n",
    "from ipyleaflet import (Map, DrawControl)\n",
    "my_Map=Map(center=[51.380756,-2.358255],zoom=50)\n",
    "dc=DrawControl(circle={'shapeOptions':{'color':'#0000FF'}})\n",
    "my_Map.add_control(dc)\n",
    "my_Map"
   ]
  },
  {
   "cell_type": "markdown",
   "metadata": {},
   "source": [
    "# _And you may wonder why this is so special to me..._\n",
    "\n",
    "_Here are some reasons_\n",
    "* The tea...\n",
    "    * Very rich\n",
    "    * Perfect for a winter morning\n",
    "    * You can have all sorts of tea: **English Breakfast, Earl Grey, Lady Grey, Oolong. The list goes on...**\n",
    "* The bun...\n",
    "    * Huge variety of flavours\n",
    "    * Perfectly balanced sweetness\n",
    "    * They've got orange with cinnamon\n",
    "\n",
    "_If you do not believe me, see for yourselves:_\n",
    "\n",
    "1. About the history of the bun\n",
    "<url>https://www.countryfile.com/how-to/food-recipes/regional-food-the-bath-bun/</url>\n",
    "\n",
    "2. Their facebook page\n",
    "<url>https://www.facebook.com/pages/The-Bath-Bun/156278384414791</url>\n"
   ]
  },
  {
   "cell_type": "code",
   "execution_count": null,
   "metadata": {},
   "outputs": [],
   "source": []
  }
 ],
 "metadata": {
  "kernelspec": {
   "display_name": "Python 3",
   "language": "python",
   "name": "python3"
  },
  "language_info": {
   "codemirror_mode": {
    "name": "ipython",
    "version": 3
   },
   "file_extension": ".py",
   "mimetype": "text/x-python",
   "name": "python",
   "nbconvert_exporter": "python",
   "pygments_lexer": "ipython3",
   "version": "3.7.3"
  }
 },
 "nbformat": 4,
 "nbformat_minor": 2
}
